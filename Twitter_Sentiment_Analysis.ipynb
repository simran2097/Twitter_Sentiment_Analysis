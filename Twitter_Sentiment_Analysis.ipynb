{
  "nbformat": 4,
  "nbformat_minor": 0,
  "metadata": {
    "kernelspec": {
      "display_name": "Python 3",
      "language": "python",
      "name": "python3"
    },
    "language_info": {
      "codemirror_mode": {
        "name": "ipython",
        "version": 3
      },
      "file_extension": ".py",
      "mimetype": "text/x-python",
      "name": "python",
      "nbconvert_exporter": "python",
      "pygments_lexer": "ipython3",
      "version": "3.7.1"
    },
    "colab": {
      "name": "Twitter Sentiment Analysis.ipynb",
      "provenance": []
    }
  },
  "cells": [
    {
      "cell_type": "markdown",
      "metadata": {
        "id": "p0XnLNyPo5UK",
        "colab_type": "text"
      },
      "source": [
        "## Twitter Sentiment Analysis"
      ]
    },
    {
      "cell_type": "markdown",
      "metadata": {
        "id": "Ll_cqicYo5UM",
        "colab_type": "text"
      },
      "source": [
        "The objective of this task is to detect hate speech in tweets. For the sake of simplicity, we say a tweet contains hate speech if it has a racist or sexist sentiment associated with it. So, the task is to classify racist or sexist tweets from other tweets.\n",
        "\n",
        "Formally, given a training sample of tweets and labels, where label ‘1’ denotes the tweet is racist/sexist and label ‘0’ denotes the tweet is not racist/sexist, your objective is to predict the labels on the given test dataset."
      ]
    },
    {
      "cell_type": "code",
      "metadata": {
        "id": "EsoqT3iFo5UO",
        "colab_type": "code",
        "colab": {}
      },
      "source": [
        "import re    # for regular expressions \n",
        "import nltk  # for text manipulation \n",
        "import string \n",
        "import warnings \n",
        "import numpy as np \n",
        "import pandas as pd \n",
        "import seaborn as sns \n",
        "import matplotlib.pyplot as plt  \n",
        "\n",
        "pd.set_option(\"display.max_colwidth\", 200) \n",
        "warnings.filterwarnings(\"ignore\", category=DeprecationWarning) \n",
        "\n",
        "%matplotlib inline"
      ],
      "execution_count": 0,
      "outputs": []
    },
    {
      "cell_type": "code",
      "metadata": {
        "id": "FkZaUpCPo5UU",
        "colab_type": "code",
        "colab": {}
      },
      "source": [
        "train  = pd.read_csv(r'C:\\Users\\Dell\\Downloads\\train_E6oV3lV.csv') \n",
        "test = pd.read_csv(r'C:\\Users\\Dell\\Downloads\\test_tweets_anuFYb8.csv')"
      ],
      "execution_count": 0,
      "outputs": []
    },
    {
      "cell_type": "markdown",
      "metadata": {
        "id": "YubViDCzo5UY",
        "colab_type": "text"
      },
      "source": [
        "## Text preprocessing.\n"
      ]
    },
    {
      "cell_type": "markdown",
      "metadata": {
        "id": "tJtSEnY6o5UZ",
        "colab_type": "text"
      },
      "source": [
        "### 1.Data Inspection"
      ]
    },
    {
      "cell_type": "code",
      "metadata": {
        "id": "mXyG_lg-o5Ua",
        "colab_type": "code",
        "colab": {},
        "outputId": "70532d66-4cea-422d-8482-3d5cfaa5373c"
      },
      "source": [
        "# checking few non racist/sexist tweets\n",
        "train[train['label'] == 0].head(10)"
      ],
      "execution_count": 0,
      "outputs": [
        {
          "output_type": "execute_result",
          "data": {
            "text/html": [
              "<div>\n",
              "<style scoped>\n",
              "    .dataframe tbody tr th:only-of-type {\n",
              "        vertical-align: middle;\n",
              "    }\n",
              "\n",
              "    .dataframe tbody tr th {\n",
              "        vertical-align: top;\n",
              "    }\n",
              "\n",
              "    .dataframe thead th {\n",
              "        text-align: right;\n",
              "    }\n",
              "</style>\n",
              "<table border=\"1\" class=\"dataframe\">\n",
              "  <thead>\n",
              "    <tr style=\"text-align: right;\">\n",
              "      <th></th>\n",
              "      <th>id</th>\n",
              "      <th>label</th>\n",
              "      <th>tweet</th>\n",
              "    </tr>\n",
              "  </thead>\n",
              "  <tbody>\n",
              "    <tr>\n",
              "      <th>0</th>\n",
              "      <td>1</td>\n",
              "      <td>0</td>\n",
              "      <td>@user when a father is dysfunctional and is so selfish he drags his kids into his dysfunction.   #run</td>\n",
              "    </tr>\n",
              "    <tr>\n",
              "      <th>1</th>\n",
              "      <td>2</td>\n",
              "      <td>0</td>\n",
              "      <td>@user @user thanks for #lyft credit i can't use cause they don't offer wheelchair vans in pdx.    #disapointed #getthanked</td>\n",
              "    </tr>\n",
              "    <tr>\n",
              "      <th>2</th>\n",
              "      <td>3</td>\n",
              "      <td>0</td>\n",
              "      <td>bihday your majesty</td>\n",
              "    </tr>\n",
              "    <tr>\n",
              "      <th>3</th>\n",
              "      <td>4</td>\n",
              "      <td>0</td>\n",
              "      <td>#model   i love u take with u all the time in urð±!!! ððððð¦ð¦ð¦</td>\n",
              "    </tr>\n",
              "    <tr>\n",
              "      <th>4</th>\n",
              "      <td>5</td>\n",
              "      <td>0</td>\n",
              "      <td>factsguide: society now    #motivation</td>\n",
              "    </tr>\n",
              "    <tr>\n",
              "      <th>5</th>\n",
              "      <td>6</td>\n",
              "      <td>0</td>\n",
              "      <td>[2/2] huge fan fare and big talking before they leave. chaos and pay disputes when they get there. #allshowandnogo</td>\n",
              "    </tr>\n",
              "    <tr>\n",
              "      <th>6</th>\n",
              "      <td>7</td>\n",
              "      <td>0</td>\n",
              "      <td>@user camping tomorrow @user @user @user @user @user @user @user dannyâ¦</td>\n",
              "    </tr>\n",
              "    <tr>\n",
              "      <th>7</th>\n",
              "      <td>8</td>\n",
              "      <td>0</td>\n",
              "      <td>the next school year is the year for exams.ð¯ can't think about that ð­ #school #exams   #hate #imagine #actorslife #revolutionschool #girl</td>\n",
              "    </tr>\n",
              "    <tr>\n",
              "      <th>8</th>\n",
              "      <td>9</td>\n",
              "      <td>0</td>\n",
              "      <td>we won!!! love the land!!! #allin #cavs #champions #cleveland #clevelandcavaliers  â¦</td>\n",
              "    </tr>\n",
              "    <tr>\n",
              "      <th>9</th>\n",
              "      <td>10</td>\n",
              "      <td>0</td>\n",
              "      <td>@user @user welcome here !  i'm   it's so #gr8 !</td>\n",
              "    </tr>\n",
              "  </tbody>\n",
              "</table>\n",
              "</div>"
            ],
            "text/plain": [
              "   id  label  \\\n",
              "0   1      0   \n",
              "1   2      0   \n",
              "2   3      0   \n",
              "3   4      0   \n",
              "4   5      0   \n",
              "5   6      0   \n",
              "6   7      0   \n",
              "7   8      0   \n",
              "8   9      0   \n",
              "9  10      0   \n",
              "\n",
              "                                                                                                                                             tweet  \n",
              "0                                            @user when a father is dysfunctional and is so selfish he drags his kids into his dysfunction.   #run  \n",
              "1                       @user @user thanks for #lyft credit i can't use cause they don't offer wheelchair vans in pdx.    #disapointed #getthanked  \n",
              "2                                                                                                                              bihday your majesty  \n",
              "3                                                           #model   i love u take with u all the time in urð±!!! ðððð\n",
              "ð¦ð¦ð¦    \n",
              "4                                                                                                           factsguide: society now    #motivation  \n",
              "5                             [2/2] huge fan fare and big talking before they leave. chaos and pay disputes when they get there. #allshowandnogo    \n",
              "6                                                                        @user camping tomorrow @user @user @user @user @user @user @user dannyâ¦  \n",
              "7  the next school year is the year for exams.ð¯ can't think about that ð­ #school #exams   #hate #imagine #actorslife #revolutionschool #girl  \n",
              "8                                                          we won!!! love the land!!! #allin #cavs #champions #cleveland #clevelandcavaliers  â¦   \n",
              "9                                                                                                @user @user welcome here !  i'm   it's so #gr8 !   "
            ]
          },
          "metadata": {
            "tags": []
          },
          "execution_count": 126
        }
      ]
    },
    {
      "cell_type": "code",
      "metadata": {
        "id": "f2d5jPnzo5Ug",
        "colab_type": "code",
        "colab": {},
        "outputId": "73f2e064-b517-4875-a2dd-46bf84bf8f86"
      },
      "source": [
        "# checking few racist/sexist tweets\n",
        "train[train['label'] == 0].head(10)"
      ],
      "execution_count": 0,
      "outputs": [
        {
          "output_type": "execute_result",
          "data": {
            "text/html": [
              "<div>\n",
              "<style scoped>\n",
              "    .dataframe tbody tr th:only-of-type {\n",
              "        vertical-align: middle;\n",
              "    }\n",
              "\n",
              "    .dataframe tbody tr th {\n",
              "        vertical-align: top;\n",
              "    }\n",
              "\n",
              "    .dataframe thead th {\n",
              "        text-align: right;\n",
              "    }\n",
              "</style>\n",
              "<table border=\"1\" class=\"dataframe\">\n",
              "  <thead>\n",
              "    <tr style=\"text-align: right;\">\n",
              "      <th></th>\n",
              "      <th>id</th>\n",
              "      <th>label</th>\n",
              "      <th>tweet</th>\n",
              "    </tr>\n",
              "  </thead>\n",
              "  <tbody>\n",
              "    <tr>\n",
              "      <th>0</th>\n",
              "      <td>1</td>\n",
              "      <td>0</td>\n",
              "      <td>@user when a father is dysfunctional and is so selfish he drags his kids into his dysfunction.   #run</td>\n",
              "    </tr>\n",
              "    <tr>\n",
              "      <th>1</th>\n",
              "      <td>2</td>\n",
              "      <td>0</td>\n",
              "      <td>@user @user thanks for #lyft credit i can't use cause they don't offer wheelchair vans in pdx.    #disapointed #getthanked</td>\n",
              "    </tr>\n",
              "    <tr>\n",
              "      <th>2</th>\n",
              "      <td>3</td>\n",
              "      <td>0</td>\n",
              "      <td>bihday your majesty</td>\n",
              "    </tr>\n",
              "    <tr>\n",
              "      <th>3</th>\n",
              "      <td>4</td>\n",
              "      <td>0</td>\n",
              "      <td>#model   i love u take with u all the time in urð±!!! ððððð¦ð¦ð¦</td>\n",
              "    </tr>\n",
              "    <tr>\n",
              "      <th>4</th>\n",
              "      <td>5</td>\n",
              "      <td>0</td>\n",
              "      <td>factsguide: society now    #motivation</td>\n",
              "    </tr>\n",
              "    <tr>\n",
              "      <th>5</th>\n",
              "      <td>6</td>\n",
              "      <td>0</td>\n",
              "      <td>[2/2] huge fan fare and big talking before they leave. chaos and pay disputes when they get there. #allshowandnogo</td>\n",
              "    </tr>\n",
              "    <tr>\n",
              "      <th>6</th>\n",
              "      <td>7</td>\n",
              "      <td>0</td>\n",
              "      <td>@user camping tomorrow @user @user @user @user @user @user @user dannyâ¦</td>\n",
              "    </tr>\n",
              "    <tr>\n",
              "      <th>7</th>\n",
              "      <td>8</td>\n",
              "      <td>0</td>\n",
              "      <td>the next school year is the year for exams.ð¯ can't think about that ð­ #school #exams   #hate #imagine #actorslife #revolutionschool #girl</td>\n",
              "    </tr>\n",
              "    <tr>\n",
              "      <th>8</th>\n",
              "      <td>9</td>\n",
              "      <td>0</td>\n",
              "      <td>we won!!! love the land!!! #allin #cavs #champions #cleveland #clevelandcavaliers  â¦</td>\n",
              "    </tr>\n",
              "    <tr>\n",
              "      <th>9</th>\n",
              "      <td>10</td>\n",
              "      <td>0</td>\n",
              "      <td>@user @user welcome here !  i'm   it's so #gr8 !</td>\n",
              "    </tr>\n",
              "  </tbody>\n",
              "</table>\n",
              "</div>"
            ],
            "text/plain": [
              "   id  label  \\\n",
              "0   1      0   \n",
              "1   2      0   \n",
              "2   3      0   \n",
              "3   4      0   \n",
              "4   5      0   \n",
              "5   6      0   \n",
              "6   7      0   \n",
              "7   8      0   \n",
              "8   9      0   \n",
              "9  10      0   \n",
              "\n",
              "                                                                                                                                             tweet  \n",
              "0                                            @user when a father is dysfunctional and is so selfish he drags his kids into his dysfunction.   #run  \n",
              "1                       @user @user thanks for #lyft credit i can't use cause they don't offer wheelchair vans in pdx.    #disapointed #getthanked  \n",
              "2                                                                                                                              bihday your majesty  \n",
              "3                                                           #model   i love u take with u all the time in urð±!!! ðððð\n",
              "ð¦ð¦ð¦    \n",
              "4                                                                                                           factsguide: society now    #motivation  \n",
              "5                             [2/2] huge fan fare and big talking before they leave. chaos and pay disputes when they get there. #allshowandnogo    \n",
              "6                                                                        @user camping tomorrow @user @user @user @user @user @user @user dannyâ¦  \n",
              "7  the next school year is the year for exams.ð¯ can't think about that ð­ #school #exams   #hate #imagine #actorslife #revolutionschool #girl  \n",
              "8                                                          we won!!! love the land!!! #allin #cavs #champions #cleveland #clevelandcavaliers  â¦   \n",
              "9                                                                                                @user @user welcome here !  i'm   it's so #gr8 !   "
            ]
          },
          "metadata": {
            "tags": []
          },
          "execution_count": 127
        }
      ]
    },
    {
      "cell_type": "markdown",
      "metadata": {
        "id": "xBXrEgFXo5Uk",
        "colab_type": "text"
      },
      "source": [
        "There are quite a many words and characters which are not really required. So, we will try to keep only those words which are important and add value."
      ]
    },
    {
      "cell_type": "code",
      "metadata": {
        "id": "On7o-V3Po5Ul",
        "colab_type": "code",
        "colab": {},
        "outputId": "53c051a2-98d3-453f-ee19-4bac03549341"
      },
      "source": [
        "train.shape, test.shape"
      ],
      "execution_count": 0,
      "outputs": [
        {
          "output_type": "execute_result",
          "data": {
            "text/plain": [
              "((31962, 3), (17197, 2))"
            ]
          },
          "metadata": {
            "tags": []
          },
          "execution_count": 128
        }
      ]
    },
    {
      "cell_type": "code",
      "metadata": {
        "id": "n0dzQoHNo5Up",
        "colab_type": "code",
        "colab": {},
        "outputId": "028a56e3-f307-406a-a910-165e7af61970"
      },
      "source": [
        "train[\"label\"].value_counts()"
      ],
      "execution_count": 0,
      "outputs": [
        {
          "output_type": "execute_result",
          "data": {
            "text/plain": [
              "0    29720\n",
              "1     2242\n",
              "Name: label, dtype: int64"
            ]
          },
          "metadata": {
            "tags": []
          },
          "execution_count": 160
        }
      ]
    },
    {
      "cell_type": "code",
      "metadata": {
        "id": "jWUXTABAo5Ut",
        "colab_type": "code",
        "colab": {},
        "outputId": "7862f27c-e625-4526-974f-d608d41f06fc"
      },
      "source": [
        "test.head()"
      ],
      "execution_count": 0,
      "outputs": [
        {
          "output_type": "execute_result",
          "data": {
            "text/html": [
              "<div>\n",
              "<style scoped>\n",
              "    .dataframe tbody tr th:only-of-type {\n",
              "        vertical-align: middle;\n",
              "    }\n",
              "\n",
              "    .dataframe tbody tr th {\n",
              "        vertical-align: top;\n",
              "    }\n",
              "\n",
              "    .dataframe thead th {\n",
              "        text-align: right;\n",
              "    }\n",
              "</style>\n",
              "<table border=\"1\" class=\"dataframe\">\n",
              "  <thead>\n",
              "    <tr style=\"text-align: right;\">\n",
              "      <th></th>\n",
              "      <th>id</th>\n",
              "      <th>tweet</th>\n",
              "      <th>label</th>\n",
              "    </tr>\n",
              "  </thead>\n",
              "  <tbody>\n",
              "    <tr>\n",
              "      <th>0</th>\n",
              "      <td>31963</td>\n",
              "      <td>#studiolife #aislife #requires #passion #dedication #willpower   to find #newmaterialsâ¦</td>\n",
              "      <td>0</td>\n",
              "    </tr>\n",
              "    <tr>\n",
              "      <th>1</th>\n",
              "      <td>31964</td>\n",
              "      <td>@user #white #supremacists want everyone to see the new â  #birdsâ #movie â and hereâs why</td>\n",
              "      <td>0</td>\n",
              "    </tr>\n",
              "    <tr>\n",
              "      <th>2</th>\n",
              "      <td>31965</td>\n",
              "      <td>safe ways to heal your #acne!!    #altwaystoheal #healthy   #healing!!</td>\n",
              "      <td>0</td>\n",
              "    </tr>\n",
              "    <tr>\n",
              "      <th>3</th>\n",
              "      <td>31966</td>\n",
              "      <td>is the hp and the cursed child book up for reservations already? if yes, where? if no, when? ððð   #harrypotter #pottermore #favorite</td>\n",
              "      <td>0</td>\n",
              "    </tr>\n",
              "    <tr>\n",
              "      <th>4</th>\n",
              "      <td>31967</td>\n",
              "      <td>3rd #bihday to my amazing, hilarious #nephew eli ahmir! uncle dave loves you and missesâ¦</td>\n",
              "      <td>0</td>\n",
              "    </tr>\n",
              "  </tbody>\n",
              "</table>\n",
              "</div>"
            ],
            "text/plain": [
              "      id  \\\n",
              "0  31963   \n",
              "1  31964   \n",
              "2  31965   \n",
              "3  31966   \n",
              "4  31967   \n",
              "\n",
              "                                                                                                                                            tweet  \\\n",
              "0                                                      #studiolife #aislife #requires #passion #dedication #willpower   to find #newmaterialsâ¦    \n",
              "1                                            @user #white #supremacists want everyone to see the new â  #birdsâ #movie â and hereâs why     \n",
              "2                                                                         safe ways to heal your #acne!!    #altwaystoheal #healthy   #healing!!    \n",
              "3  is the hp and the cursed child book up for reservations already? if yes, where? if no, when? ððð   #harrypotter #pottermore #favorite   \n",
              "4                                                     3rd #bihday to my amazing, hilarious #nephew eli ahmir! uncle dave loves you and missesâ¦    \n",
              "\n",
              "   label  \n",
              "0      0  \n",
              "1      0  \n",
              "2      0  \n",
              "3      0  \n",
              "4      0  "
            ]
          },
          "metadata": {
            "tags": []
          },
          "execution_count": 162
        }
      ]
    },
    {
      "cell_type": "markdown",
      "metadata": {
        "id": "stJag1Cao5Uw",
        "colab_type": "text"
      },
      "source": [
        "In the train dataset, we have 2,242 (~7%) tweets labeled as racist or sexist, and 29,720 (~93%) tweets labeled as non racist/sexist. So, it is an imbalanced classification dataset"
      ]
    },
    {
      "cell_type": "code",
      "metadata": {
        "id": "rZodvHlOo5Ux",
        "colab_type": "code",
        "colab": {},
        "outputId": "bb43aeca-79f2-4a93-944d-ef503a0e05d4"
      },
      "source": [
        "# checking the distribution of length of the tweets, in terms of words, in both train and test data.\n",
        "\n",
        "length_train = train['tweet'].str.len() \n",
        "length_test = test['tweet'].str.len() \n",
        "plt.hist(length_train, bins=20, label=\"train_tweets\") \n",
        "plt.hist(length_test, bins=20, label=\"test_tweets\") \n",
        "plt.legend() \n",
        "plt.show()"
      ],
      "execution_count": 0,
      "outputs": [
        {
          "output_type": "display_data",
          "data": {
            "image/png": "[encoded data removed]",
            "text/plain": [
              "<Figure size 432x288 with 1 Axes>"
            ]
          },
          "metadata": {
            "tags": [],
            "needs_background": "light"
          }
        }
      ]
    },
    {
      "cell_type": "markdown",
      "metadata": {
        "id": "TFP91jG_o5U0",
        "colab_type": "text"
      },
      "source": [
        "### Data cleaning"
      ]
    },
    {
      "cell_type": "code",
      "metadata": {
        "id": "EEQUQeCFo5U0",
        "colab_type": "code",
        "colab": {},
        "outputId": "3ab6f8e0-d391-4432-ca69-befa5cab5a7d"
      },
      "source": [
        "#Combining the train and test dataset\n",
        "combi = train.append(test, ignore_index=True) \n",
        "combi.shape"
      ],
      "execution_count": 0,
      "outputs": [
        {
          "output_type": "execute_result",
          "data": {
            "text/plain": [
              "(49159, 3)"
            ]
          },
          "metadata": {
            "tags": []
          },
          "execution_count": 131
        }
      ]
    },
    {
      "cell_type": "code",
      "metadata": {
        "id": "PIPLstE6o5U3",
        "colab_type": "code",
        "colab": {}
      },
      "source": [
        "# remove unwanted text patterns from the tweets.\n",
        "def remove_pattern(input_txt, pattern):\n",
        "    r = re.findall(pattern, input_txt)\n",
        "    for i in r:\n",
        "        input_txt = re.sub(i, '', input_txt)\n",
        "    return input_txt  "
      ],
      "execution_count": 0,
      "outputs": []
    },
    {
      "cell_type": "code",
      "metadata": {
        "id": "SC4llMAio5U5",
        "colab_type": "code",
        "colab": {},
        "outputId": "7cead614-856d-4906-a13f-0b59d654414b"
      },
      "source": [
        "# 1. Removing Twitter Handles (@user)\n",
        "# creating a new column tidy_tweet\n",
        "# passing @[]* as a pattern to remove pattern function.its a RE that will pick any word starting with @\n",
        "combi['tidy_tweet'] = np.vectorize(remove_pattern)(combi['tweet'], \"@[\\w]*\") \n",
        "combi.head()"
      ],
      "execution_count": 0,
      "outputs": [
        {
          "output_type": "execute_result",
          "data": {
            "text/html": [
              "<div>\n",
              "<style scoped>\n",
              "    .dataframe tbody tr th:only-of-type {\n",
              "        vertical-align: middle;\n",
              "    }\n",
              "\n",
              "    .dataframe tbody tr th {\n",
              "        vertical-align: top;\n",
              "    }\n",
              "\n",
              "    .dataframe thead th {\n",
              "        text-align: right;\n",
              "    }\n",
              "</style>\n",
              "<table border=\"1\" class=\"dataframe\">\n",
              "  <thead>\n",
              "    <tr style=\"text-align: right;\">\n",
              "      <th></th>\n",
              "      <th>id</th>\n",
              "      <th>label</th>\n",
              "      <th>tweet</th>\n",
              "      <th>tidy_tweet</th>\n",
              "    </tr>\n",
              "  </thead>\n",
              "  <tbody>\n",
              "    <tr>\n",
              "      <th>0</th>\n",
              "      <td>1</td>\n",
              "      <td>0.0</td>\n",
              "      <td>@user when a father is dysfunctional and is so selfish he drags his kids into his dysfunction.   #run</td>\n",
              "      <td>when a father is dysfunctional and is so selfish he drags his kids into his dysfunction.   #run</td>\n",
              "    </tr>\n",
              "    <tr>\n",
              "      <th>1</th>\n",
              "      <td>2</td>\n",
              "      <td>0.0</td>\n",
              "      <td>@user @user thanks for #lyft credit i can't use cause they don't offer wheelchair vans in pdx.    #disapointed #getthanked</td>\n",
              "      <td>thanks for #lyft credit i can't use cause they don't offer wheelchair vans in pdx.    #disapointed #getthanked</td>\n",
              "    </tr>\n",
              "    <tr>\n",
              "      <th>2</th>\n",
              "      <td>3</td>\n",
              "      <td>0.0</td>\n",
              "      <td>bihday your majesty</td>\n",
              "      <td>bihday your majesty</td>\n",
              "    </tr>\n",
              "    <tr>\n",
              "      <th>3</th>\n",
              "      <td>4</td>\n",
              "      <td>0.0</td>\n",
              "      <td>#model   i love u take with u all the time in urð±!!! ððððð¦ð¦ð¦</td>\n",
              "      <td>#model   i love u take with u all the time in urð±!!! ððððð¦ð¦ð¦</td>\n",
              "    </tr>\n",
              "    <tr>\n",
              "      <th>4</th>\n",
              "      <td>5</td>\n",
              "      <td>0.0</td>\n",
              "      <td>factsguide: society now    #motivation</td>\n",
              "      <td>factsguide: society now    #motivation</td>\n",
              "    </tr>\n",
              "  </tbody>\n",
              "</table>\n",
              "</div>"
            ],
            "text/plain": [
              "   id  label  \\\n",
              "0   1    0.0   \n",
              "1   2    0.0   \n",
              "2   3    0.0   \n",
              "3   4    0.0   \n",
              "4   5    0.0   \n",
              "\n",
              "                                                                                                                        tweet  \\\n",
              "0                       @user when a father is dysfunctional and is so selfish he drags his kids into his dysfunction.   #run   \n",
              "1  @user @user thanks for #lyft credit i can't use cause they don't offer wheelchair vans in pdx.    #disapointed #getthanked   \n",
              "2                                                                                                         bihday your majesty   \n",
              "3                                      #model   i love u take with u all the time in urð±!!! ðððð\n",
              "ð¦ð¦ð¦     \n",
              "4                                                                                      factsguide: society now    #motivation   \n",
              "\n",
              "                                                                                                         tidy_tweet  \n",
              "0                   when a father is dysfunctional and is so selfish he drags his kids into his dysfunction.   #run  \n",
              "1    thanks for #lyft credit i can't use cause they don't offer wheelchair vans in pdx.    #disapointed #getthanked  \n",
              "2                                                                                               bihday your majesty  \n",
              "3                            #model   i love u take with u all the time in urð±!!! ðððð\n",
              "ð¦ð¦ð¦    \n",
              "4                                                                            factsguide: society now    #motivation  "
            ]
          },
          "metadata": {
            "tags": []
          },
          "execution_count": 133
        }
      ]
    },
    {
      "cell_type": "code",
      "metadata": {
        "id": "xMkf-qWWo5U8",
        "colab_type": "code",
        "colab": {},
        "outputId": "2dd74964-1af3-4210-ba47-98b89d760b15"
      },
      "source": [
        "#2.Removing Punctuations, Numbers, and Special Characters\n",
        "combi['tidy_tweet'] = combi['tidy_tweet'].str.replace(\"[^a-zA-Z#]\", \" \") \n",
        "combi.head(10)"
      ],
      "execution_count": 0,
      "outputs": [
        {
          "output_type": "execute_result",
          "data": {
            "text/html": [
              "<div>\n",
              "<style scoped>\n",
              "    .dataframe tbody tr th:only-of-type {\n",
              "        vertical-align: middle;\n",
              "    }\n",
              "\n",
              "    .dataframe tbody tr th {\n",
              "        vertical-align: top;\n",
              "    }\n",
              "\n",
              "    .dataframe thead th {\n",
              "        text-align: right;\n",
              "    }\n",
              "</style>\n",
              "<table border=\"1\" class=\"dataframe\">\n",
              "  <thead>\n",
              "    <tr style=\"text-align: right;\">\n",
              "      <th></th>\n",
              "      <th>id</th>\n",
              "      <th>label</th>\n",
              "      <th>tweet</th>\n",
              "      <th>tidy_tweet</th>\n",
              "    </tr>\n",
              "  </thead>\n",
              "  <tbody>\n",
              "    <tr>\n",
              "      <th>0</th>\n",
              "      <td>1</td>\n",
              "      <td>0.0</td>\n",
              "      <td>@user when a father is dysfunctional and is so selfish he drags his kids into his dysfunction.   #run</td>\n",
              "      <td>when a father is dysfunctional and is so selfish he drags his kids into his dysfunction    #run</td>\n",
              "    </tr>\n",
              "    <tr>\n",
              "      <th>1</th>\n",
              "      <td>2</td>\n",
              "      <td>0.0</td>\n",
              "      <td>@user @user thanks for #lyft credit i can't use cause they don't offer wheelchair vans in pdx.    #disapointed #getthanked</td>\n",
              "      <td>thanks for #lyft credit i can t use cause they don t offer wheelchair vans in pdx     #disapointed #getthanked</td>\n",
              "    </tr>\n",
              "    <tr>\n",
              "      <th>2</th>\n",
              "      <td>3</td>\n",
              "      <td>0.0</td>\n",
              "      <td>bihday your majesty</td>\n",
              "      <td>bihday your majesty</td>\n",
              "    </tr>\n",
              "    <tr>\n",
              "      <th>3</th>\n",
              "      <td>4</td>\n",
              "      <td>0.0</td>\n",
              "      <td>#model   i love u take with u all the time in urð±!!! ððððð¦ð¦ð¦</td>\n",
              "      <td>#model   i love u take with u all the time in ur</td>\n",
              "    </tr>\n",
              "    <tr>\n",
              "      <th>4</th>\n",
              "      <td>5</td>\n",
              "      <td>0.0</td>\n",
              "      <td>factsguide: society now    #motivation</td>\n",
              "      <td>factsguide  society now    #motivation</td>\n",
              "    </tr>\n",
              "    <tr>\n",
              "      <th>5</th>\n",
              "      <td>6</td>\n",
              "      <td>0.0</td>\n",
              "      <td>[2/2] huge fan fare and big talking before they leave. chaos and pay disputes when they get there. #allshowandnogo</td>\n",
              "      <td>huge fan fare and big talking before they leave  chaos and pay disputes when they get there  #allshowandnogo</td>\n",
              "    </tr>\n",
              "    <tr>\n",
              "      <th>6</th>\n",
              "      <td>7</td>\n",
              "      <td>0.0</td>\n",
              "      <td>@user camping tomorrow @user @user @user @user @user @user @user dannyâ¦</td>\n",
              "      <td>camping tomorrow        danny</td>\n",
              "    </tr>\n",
              "    <tr>\n",
              "      <th>7</th>\n",
              "      <td>8</td>\n",
              "      <td>0.0</td>\n",
              "      <td>the next school year is the year for exams.ð¯ can't think about that ð­ #school #exams   #hate #imagine #actorslife #revolutionschool #girl</td>\n",
              "      <td>the next school year is the year for exams      can t think about that      #school #exams   #hate #imagine #actorslife #revolutionschool #girl</td>\n",
              "    </tr>\n",
              "    <tr>\n",
              "      <th>8</th>\n",
              "      <td>9</td>\n",
              "      <td>0.0</td>\n",
              "      <td>we won!!! love the land!!! #allin #cavs #champions #cleveland #clevelandcavaliers  â¦</td>\n",
              "      <td>we won    love the land    #allin #cavs #champions #cleveland #clevelandcavaliers</td>\n",
              "    </tr>\n",
              "    <tr>\n",
              "      <th>9</th>\n",
              "      <td>10</td>\n",
              "      <td>0.0</td>\n",
              "      <td>@user @user welcome here !  i'm   it's so #gr8 !</td>\n",
              "      <td>welcome here    i m   it s so #gr</td>\n",
              "    </tr>\n",
              "  </tbody>\n",
              "</table>\n",
              "</div>"
            ],
            "text/plain": [
              "   id  label  \\\n",
              "0   1    0.0   \n",
              "1   2    0.0   \n",
              "2   3    0.0   \n",
              "3   4    0.0   \n",
              "4   5    0.0   \n",
              "5   6    0.0   \n",
              "6   7    0.0   \n",
              "7   8    0.0   \n",
              "8   9    0.0   \n",
              "9  10    0.0   \n",
              "\n",
              "                                                                                                                                             tweet  \\\n",
              "0                                            @user when a father is dysfunctional and is so selfish he drags his kids into his dysfunction.   #run   \n",
              "1                       @user @user thanks for #lyft credit i can't use cause they don't offer wheelchair vans in pdx.    #disapointed #getthanked   \n",
              "2                                                                                                                              bihday your majesty   \n",
              "3                                                           #model   i love u take with u all the time in urð±!!! ðððð\n",
              "ð¦ð¦ð¦     \n",
              "4                                                                                                           factsguide: society now    #motivation   \n",
              "5                             [2/2] huge fan fare and big talking before they leave. chaos and pay disputes when they get there. #allshowandnogo     \n",
              "6                                                                        @user camping tomorrow @user @user @user @user @user @user @user dannyâ¦   \n",
              "7  the next school year is the year for exams.ð¯ can't think about that ð­ #school #exams   #hate #imagine #actorslife #revolutionschool #girl   \n",
              "8                                                          we won!!! love the land!!! #allin #cavs #champions #cleveland #clevelandcavaliers  â¦    \n",
              "9                                                                                                @user @user welcome here !  i'm   it's so #gr8 !    \n",
              "\n",
              "                                                                                                                                        tidy_tweet  \n",
              "0                                                  when a father is dysfunctional and is so selfish he drags his kids into his dysfunction    #run  \n",
              "1                                   thanks for #lyft credit i can t use cause they don t offer wheelchair vans in pdx     #disapointed #getthanked  \n",
              "2                                                                                                                              bihday your majesty  \n",
              "3                                                           #model   i love u take with u all the time in ur                                        \n",
              "4                                                                                                           factsguide  society now    #motivation  \n",
              "5                                   huge fan fare and big talking before they leave  chaos and pay disputes when they get there  #allshowandnogo    \n",
              "6                                                                                                                 camping tomorrow        danny     \n",
              "7  the next school year is the year for exams      can t think about that      #school #exams   #hate #imagine #actorslife #revolutionschool #girl  \n",
              "8                                                          we won    love the land    #allin #cavs #champions #cleveland #clevelandcavaliers        \n",
              "9                                                                                                            welcome here    i m   it s so #gr      "
            ]
          },
          "metadata": {
            "tags": []
          },
          "execution_count": 134
        }
      ]
    },
    {
      "cell_type": "code",
      "metadata": {
        "id": "irgzjdbvo5U-",
        "colab_type": "code",
        "colab": {},
        "outputId": "40f370d1-bac2-46bf-af39-72915acfc55f"
      },
      "source": [
        "# 3.Removing Short Words\n",
        "#remove all the words having length 3 or less\n",
        "combi['tidy_tweet'] = combi['tidy_tweet'].apply(lambda x: ' '.join([w for w in x.split() if len(w)>3]))\n",
        "combi.head()"
      ],
      "execution_count": 0,
      "outputs": [
        {
          "output_type": "execute_result",
          "data": {
            "text/html": [
              "<div>\n",
              "<style scoped>\n",
              "    .dataframe tbody tr th:only-of-type {\n",
              "        vertical-align: middle;\n",
              "    }\n",
              "\n",
              "    .dataframe tbody tr th {\n",
              "        vertical-align: top;\n",
              "    }\n",
              "\n",
              "    .dataframe thead th {\n",
              "        text-align: right;\n",
              "    }\n",
              "</style>\n",
              "<table border=\"1\" class=\"dataframe\">\n",
              "  <thead>\n",
              "    <tr style=\"text-align: right;\">\n",
              "      <th></th>\n",
              "      <th>id</th>\n",
              "      <th>label</th>\n",
              "      <th>tweet</th>\n",
              "      <th>tidy_tweet</th>\n",
              "    </tr>\n",
              "  </thead>\n",
              "  <tbody>\n",
              "    <tr>\n",
              "      <th>0</th>\n",
              "      <td>1</td>\n",
              "      <td>0.0</td>\n",
              "      <td>@user when a father is dysfunctional and is so selfish he drags his kids into his dysfunction.   #run</td>\n",
              "      <td>when father dysfunctional selfish drags kids into dysfunction #run</td>\n",
              "    </tr>\n",
              "    <tr>\n",
              "      <th>1</th>\n",
              "      <td>2</td>\n",
              "      <td>0.0</td>\n",
              "      <td>@user @user thanks for #lyft credit i can't use cause they don't offer wheelchair vans in pdx.    #disapointed #getthanked</td>\n",
              "      <td>thanks #lyft credit cause they offer wheelchair vans #disapointed #getthanked</td>\n",
              "    </tr>\n",
              "    <tr>\n",
              "      <th>2</th>\n",
              "      <td>3</td>\n",
              "      <td>0.0</td>\n",
              "      <td>bihday your majesty</td>\n",
              "      <td>bihday your majesty</td>\n",
              "    </tr>\n",
              "    <tr>\n",
              "      <th>3</th>\n",
              "      <td>4</td>\n",
              "      <td>0.0</td>\n",
              "      <td>#model   i love u take with u all the time in urð±!!! ððððð¦ð¦ð¦</td>\n",
              "      <td>#model love take with time</td>\n",
              "    </tr>\n",
              "    <tr>\n",
              "      <th>4</th>\n",
              "      <td>5</td>\n",
              "      <td>0.0</td>\n",
              "      <td>factsguide: society now    #motivation</td>\n",
              "      <td>factsguide society #motivation</td>\n",
              "    </tr>\n",
              "  </tbody>\n",
              "</table>\n",
              "</div>"
            ],
            "text/plain": [
              "   id  label  \\\n",
              "0   1    0.0   \n",
              "1   2    0.0   \n",
              "2   3    0.0   \n",
              "3   4    0.0   \n",
              "4   5    0.0   \n",
              "\n",
              "                                                                                                                        tweet  \\\n",
              "0                       @user when a father is dysfunctional and is so selfish he drags his kids into his dysfunction.   #run   \n",
              "1  @user @user thanks for #lyft credit i can't use cause they don't offer wheelchair vans in pdx.    #disapointed #getthanked   \n",
              "2                                                                                                         bihday your majesty   \n",
              "3                                      #model   i love u take with u all the time in urð±!!! ðððð\n",
              "ð¦ð¦ð¦     \n",
              "4                                                                                      factsguide: society now    #motivation   \n",
              "\n",
              "                                                                      tidy_tweet  \n",
              "0             when father dysfunctional selfish drags kids into dysfunction #run  \n",
              "1  thanks #lyft credit cause they offer wheelchair vans #disapointed #getthanked  \n",
              "2                                                            bihday your majesty  \n",
              "3                                                     #model love take with time  \n",
              "4                                                 factsguide society #motivation  "
            ]
          },
          "metadata": {
            "tags": []
          },
          "execution_count": 135
        }
      ]
    },
    {
      "cell_type": "code",
      "metadata": {
        "id": "uLqh7vkDo5VB",
        "colab_type": "code",
        "colab": {},
        "outputId": "9315dac8-232e-4063-a349-eb7e5c50eb85"
      },
      "source": [
        "# 4.Text Normalization\n",
        "tokenized_tweet = combi['tidy_tweet'].apply(lambda x: x.split()) # tokenizing \n",
        "tokenized_tweet.head()"
      ],
      "execution_count": 0,
      "outputs": [
        {
          "output_type": "execute_result",
          "data": {
            "text/plain": [
              "0                [when, father, dysfunctional, selfish, drags, kids, into, dysfunction, #run]\n",
              "1    [thanks, #lyft, credit, cause, they, offer, wheelchair, vans, #disapointed, #getthanked]\n",
              "2                                                                     [bihday, your, majesty]\n",
              "3                                                            [#model, love, take, with, time]\n",
              "4                                                          [factsguide, society, #motivation]\n",
              "Name: tidy_tweet, dtype: object"
            ]
          },
          "metadata": {
            "tags": []
          },
          "execution_count": 136
        }
      ]
    },
    {
      "cell_type": "code",
      "metadata": {
        "id": "7MKxEFFlo5VD",
        "colab_type": "code",
        "colab": {}
      },
      "source": [
        "from nltk.stem.porter import * \n",
        "stemmer = PorterStemmer() \n",
        "tokenized_tweet = tokenized_tweet.apply(lambda x: [stemmer.stem(i) for i in x]) # stemming\n"
      ],
      "execution_count": 0,
      "outputs": []
    },
    {
      "cell_type": "markdown",
      "metadata": {
        "id": "UqjFshHIo5VF",
        "colab_type": "text"
      },
      "source": [
        "let’s stitch these tokens back together. It can easily be done using nltk’s MosesDetokenizer function."
      ]
    },
    {
      "cell_type": "code",
      "metadata": {
        "id": "89Ch7Qn7o5VG",
        "colab_type": "code",
        "colab": {}
      },
      "source": [
        "for i in range(len(tokenized_tweet)):\n",
        "    tokenized_tweet[i] = ' '.join(tokenized_tweet[i])    \n",
        "combi['tidy_tweet'] = tokenized_tweet"
      ],
      "execution_count": 0,
      "outputs": []
    },
    {
      "cell_type": "markdown",
      "metadata": {
        "id": "yjtF_Ziuo5VI",
        "colab_type": "text"
      },
      "source": [
        "## 1.common words used in the tweets"
      ]
    },
    {
      "cell_type": "code",
      "metadata": {
        "id": "aGh7LAM6o5VI",
        "colab_type": "code",
        "colab": {}
      },
      "source": [
        "from wordcloud import WordCloud\n",
        "all_words = ' '.join([text for text in combi['tidy_tweet']]) "
      ],
      "execution_count": 0,
      "outputs": []
    },
    {
      "cell_type": "markdown",
      "metadata": {
        "id": "km-3yatoo5VL",
        "colab_type": "text"
      },
      "source": [
        "from above we can see most of words are positive like love,great,happi,smile etc but it doesnt give any idea about words associated with racist tweets.therefore we will plot separate wordcloud for both classes in train data"
      ]
    },
    {
      "cell_type": "markdown",
      "metadata": {
        "id": "0ovhJVIVo5VL",
        "colab_type": "text"
      },
      "source": [
        "### 2. Words in non racist/sexist tweets"
      ]
    },
    {
      "cell_type": "code",
      "metadata": {
        "id": "kZQ6gU9ao5VN",
        "colab_type": "code",
        "colab": {},
        "outputId": "666f1490-3750-42a2-e19c-c0c2c4577760"
      },
      "source": [
        "normal_words =' '.join([text for text in combi['tidy_tweet'][combi['label'] == 0]]) \n",
        "wordcloud = WordCloud(width=500, height=300, random_state=21, max_font_size=110).generate(normal_words) \n",
        "plt.figure(figsize=(8, 5)) \n",
        "plt.imshow(wordcloud, interpolation=\"bilinear\")\n",
        "plt.axis('off') \n",
        "plt.show()"
      ],
      "execution_count": 0,
      "outputs": [
        {
          "output_type": "display_data",
          "data": {
            "image/png": "[encoded data removed]",
            "text/plain": [
              "<Figure size 576x360 with 1 Axes>"
            ]
          },
          "metadata": {
            "tags": [],
            "needs_background": "light"
          }
        }
      ]
    },
    {
      "cell_type": "markdown",
      "metadata": {
        "id": "_mO2f2Rbo5VR",
        "colab_type": "text"
      },
      "source": [
        "Most of the frequent words are compatible with the sentiment, i.e, non-racist/sexists tweets."
      ]
    },
    {
      "cell_type": "markdown",
      "metadata": {
        "id": "aYIINQ1Jo5VR",
        "colab_type": "text"
      },
      "source": [
        "### 3. Racist/Sexist Tweets"
      ]
    },
    {
      "cell_type": "code",
      "metadata": {
        "id": "hVSu1L2Zo5VS",
        "colab_type": "code",
        "colab": {},
        "outputId": "d0d4d4f9-cca0-4d79-8667-9985bba2ee3e"
      },
      "source": [
        "negative_words = ' '.join([text for text in combi['tidy_tweet'][combi['label'] == 1]]) \n",
        "wordcloud = WordCloud(width=500, height=300, random_state=21, max_font_size=110).generate(negative_words) \n",
        "plt.figure(figsize=(8, 5)) \n",
        "plt.imshow(wordcloud, interpolation=\"bilinear\")\n",
        "plt.axis('off') \n",
        "plt.show()"
      ],
      "execution_count": 0,
      "outputs": [
        {
          "output_type": "display_data",
          "data": {
            "image/png": "[encoded data removed]",
            "text/plain": [
              "<Figure size 576x360 with 1 Axes>"
            ]
          },
          "metadata": {
            "tags": [],
            "needs_background": "light"
          }
        }
      ]
    },
    {
      "cell_type": "markdown",
      "metadata": {
        "id": "x9n_eBMIo5VU",
        "colab_type": "text"
      },
      "source": [
        "### 4. impact of Hashtags on tweets sentiment\n",
        "\n"
      ]
    },
    {
      "cell_type": "markdown",
      "metadata": {
        "id": "4UAZu0Lao5VV",
        "colab_type": "text"
      },
      "source": [
        "checking whether these hashtags add any value to our sentiment analysis task, i.e they help in distinguishing tweets into the different sentiments."
      ]
    },
    {
      "cell_type": "markdown",
      "metadata": {
        "id": "Trmwzh4Fo5VV",
        "colab_type": "text"
      },
      "source": [
        "We will store all the trend terms in two separate lists — one for non-racist/sexist tweets and the other for racist/sexist tweets."
      ]
    },
    {
      "cell_type": "code",
      "metadata": {
        "id": "H39fA0Gvo5VW",
        "colab_type": "code",
        "colab": {}
      },
      "source": [
        "# function to collect hashtags\n",
        "def hashtag_extract(x):\n",
        "    hashtags = []\n",
        "    # Loop over the words in the tweet\n",
        "    for i in x:\n",
        "        ht = re.findall(r\"#(\\w+)\", i)\n",
        "        hashtags.append(ht)\n",
        "\n",
        "    return hashtags"
      ],
      "execution_count": 0,
      "outputs": []
    },
    {
      "cell_type": "code",
      "metadata": {
        "id": "3Mv0keBJo5VY",
        "colab_type": "code",
        "colab": {}
      },
      "source": [
        "# extracting hashtags from non racist/sexist tweets\n",
        "\n",
        "HT_regular = hashtag_extract(combi['tidy_tweet'][combi['label'] == 0])\n",
        "\n",
        "# extracting hashtags from racist/sexist tweets\n",
        "HT_negative = hashtag_extract(combi['tidy_tweet'][combi['label'] == 1])\n",
        "\n",
        "# unnesting list\n",
        "HT_regular = sum(HT_regular,[])\n",
        "HT_negative = sum(HT_negative,[])"
      ],
      "execution_count": 0,
      "outputs": []
    },
    {
      "cell_type": "markdown",
      "metadata": {
        "id": "ECGBsAb7o5Va",
        "colab_type": "text"
      },
      "source": [
        "### Non-Racist/Sexist Tweets"
      ]
    },
    {
      "cell_type": "code",
      "metadata": {
        "id": "1Yv5biO9o5Va",
        "colab_type": "code",
        "colab": {},
        "outputId": "a549e27a-e5c5-4f6e-908b-274a148394b7"
      },
      "source": [
        "a = nltk.FreqDist(HT_regular)\n",
        "d = pd.DataFrame({'Hashtag': list(a.keys()),\n",
        "                  'Count': list(a.values())})\n",
        "# selecting top 10 most frequent hashtags     \n",
        "d = d.nlargest(columns=\"Count\", n = 10) \n",
        "plt.figure(figsize=(16,5))\n",
        "ax = sns.barplot(data=d, x= \"Hashtag\", y = \"Count\")\n",
        "ax.set(ylabel = 'Count')\n",
        "plt.show()"
      ],
      "execution_count": 0,
      "outputs": [
        {
          "output_type": "display_data",
          "data": {
            "image/png": "[encoded data removed]",
            "text/plain": [
              "<Figure size 1152x360 with 1 Axes>"
            ]
          },
          "metadata": {
            "tags": [],
            "needs_background": "light"
          }
        }
      ]
    },
    {
      "cell_type": "code",
      "metadata": {
        "id": "W5oXZItOo5Vh",
        "colab_type": "code",
        "colab": {},
        "outputId": "06321177-fbe5-4dfe-d80e-3e2c4fb34ab6"
      },
      "source": [
        "print(d)"
      ],
      "execution_count": 0,
      "outputs": [
        {
          "output_type": "stream",
          "text": [
            "     Hashtag  Count\n",
            "32      love   1654\n",
            "39     posit    917\n",
            "58     smile    676\n",
            "157  healthi    573\n",
            "38     thank    534\n",
            "176      fun    463\n",
            "343     life    425\n",
            "92    affirm    423\n",
            "286   summer    390\n",
            "4      model    375\n"
          ],
          "name": "stdout"
        }
      ]
    },
    {
      "cell_type": "markdown",
      "metadata": {
        "id": "tIlNzPxNo5Vj",
        "colab_type": "text"
      },
      "source": [
        "### Racist/Sexist Tweets"
      ]
    },
    {
      "cell_type": "code",
      "metadata": {
        "id": "iAOZvbQGo5Vk",
        "colab_type": "code",
        "colab": {},
        "outputId": "5014b96a-9282-46e5-cb31-605c3a814686"
      },
      "source": [
        "b = nltk.FreqDist(HT_negative)\n",
        "e = pd.DataFrame({'Hashtag': list(b.keys()), 'Count': list(b.values())})\n",
        "# selecting top 10 most frequent hashtags\n",
        "e = e.nlargest(columns=\"Count\", n = 10)   \n",
        "plt.figure(figsize=(16,5))\n",
        "ax = sns.barplot(data=e, x= \"Hashtag\", y = \"Count\")\n",
        "ax.set(ylabel = 'Count')\n",
        "plt.show()"
      ],
      "execution_count": 0,
      "outputs": [
        {
          "output_type": "display_data",
          "data": {
            "image/png": "[encoded data removed]",
            "text/plain": [
              "<Figure size 1152x360 with 1 Axes>"
            ]
          },
          "metadata": {
            "tags": [],
            "needs_background": "light"
          }
        }
      ]
    },
    {
      "cell_type": "code",
      "metadata": {
        "id": "tm0_SpPro5Vm",
        "colab_type": "code",
        "colab": {},
        "outputId": "ab03832d-402e-41b1-d3c4-984b6cae19e0"
      },
      "source": [
        "print(e)"
      ],
      "execution_count": 0,
      "outputs": [
        {
          "output_type": "stream",
          "text": [
            "      Hashtag  Count\n",
            "22      trump    136\n",
            "31      polit     95\n",
            "63  allahsoil     92\n",
            "30      liber     81\n",
            "28    libtard     77\n",
            "29        sjw     75\n",
            "60    retweet     63\n",
            "59      black     46\n",
            "62      miami     46\n",
            "33       hate     37\n"
          ],
          "name": "stdout"
        }
      ]
    },
    {
      "cell_type": "markdown",
      "metadata": {
        "id": "TU1gecGTo5Vo",
        "colab_type": "text"
      },
      "source": [
        "Now we have to convert Text into vectors/features."
      ]
    },
    {
      "cell_type": "markdown",
      "metadata": {
        "id": "R3nzmOu3o5Vp",
        "colab_type": "text"
      },
      "source": [
        "#### 1.BAG OF WORDS"
      ]
    },
    {
      "cell_type": "code",
      "metadata": {
        "id": "Gw7hCiVfo5Vq",
        "colab_type": "code",
        "colab": {},
        "outputId": "1910b75a-1f9b-4043-c854-d82b94be4536"
      },
      "source": [
        "from sklearn.feature_extraction.text import CountVectorizer\n",
        "bow_vectorizer = CountVectorizer(max_df=0.90, min_df=2, max_features=1000, stop_words='english')\n",
        "# bag-of-words feature matrix\n",
        "bow = bow_vectorizer.fit_transform(combi['tidy_tweet'])\n",
        "bow.shape"
      ],
      "execution_count": 0,
      "outputs": [
        {
          "output_type": "execute_result",
          "data": {
            "text/plain": [
              "(49159, 1000)"
            ]
          },
          "metadata": {
            "tags": []
          },
          "execution_count": 148
        }
      ]
    },
    {
      "cell_type": "markdown",
      "metadata": {
        "id": "nMtylvi0o5Vt",
        "colab_type": "text"
      },
      "source": [
        "#### 2. TFIDF"
      ]
    },
    {
      "cell_type": "code",
      "metadata": {
        "id": "3KaCXCITo5Vt",
        "colab_type": "code",
        "colab": {},
        "outputId": "ea87db93-d315-4db0-bdbc-15ef39e6f957"
      },
      "source": [
        "from sklearn.feature_extraction.text import TfidfVectorizer\n",
        "tfidf_vectorizer = TfidfVectorizer(max_df=0.90, min_df=2, max_features=1000, stop_words='english')\n",
        "# TF-IDF feature matrix\n",
        "tfidf = tfidf_vectorizer.fit_transform(combi['tidy_tweet'])\n",
        "tfidf.shape"
      ],
      "execution_count": 0,
      "outputs": [
        {
          "output_type": "execute_result",
          "data": {
            "text/plain": [
              "(49159, 1000)"
            ]
          },
          "metadata": {
            "tags": []
          },
          "execution_count": 149
        }
      ]
    },
    {
      "cell_type": "markdown",
      "metadata": {
        "id": "r5X0K8Ypo5Vw",
        "colab_type": "text"
      },
      "source": [
        "#### 3.WORD2VEC"
      ]
    },
    {
      "cell_type": "code",
      "metadata": {
        "id": "uS3ywB-lo5Vx",
        "colab_type": "code",
        "colab": {},
        "outputId": "314f0257-2d17-4821-fd95-121bb70023be"
      },
      "source": [
        "tokenized_tweet = combi['tidy_tweet'].apply(lambda x: x.split()) # tokenizing \n",
        "model_w2v = gensim.models.Word2Vec(\n",
        "            tokenized_tweet,\n",
        "            size=200, # desired no. of features/independent variables\n",
        "            window=5, # context window size\n",
        "            min_count=2,\n",
        "            sg = 1, # 1 for skip-gram model\n",
        "            hs = 0,\n",
        "            negative = 10, # for negative sampling\n",
        "            workers= 2, # no.of cores\n",
        "            seed = 34) \n",
        "\n",
        "model_w2v.train(tokenized_tweet, total_examples= len(combi['tidy_tweet']), epochs=20)\n"
      ],
      "execution_count": 0,
      "outputs": [
        {
          "output_type": "execute_result",
          "data": {
            "text/plain": [
              "(6510281, 7536020)"
            ]
          },
          "metadata": {
            "tags": []
          },
          "execution_count": 163
        }
      ]
    },
    {
      "cell_type": "code",
      "metadata": {
        "id": "KNjjleAUo5Vz",
        "colab_type": "code",
        "colab": {},
        "outputId": "8012362a-e2d6-44cc-8fb6-1f362d015a4d"
      },
      "source": [
        "model_w2v.wv.most_similar(positive=\"dinner\")\n"
      ],
      "execution_count": 0,
      "outputs": [
        {
          "output_type": "execute_result",
          "data": {
            "text/plain": [
              "[('#avocado', 0.5985120534896851),\n",
              " ('#biall', 0.5919255018234253),\n",
              " ('spaghetti', 0.5806020498275757),\n",
              " ('noodl', 0.5749346613883972),\n",
              " ('cookout', 0.572480320930481),\n",
              " ('#cellar', 0.5676290988922119),\n",
              " ('#toast', 0.5650596618652344),\n",
              " ('dess', 0.561635434627533),\n",
              " ('spinach', 0.5586284399032593),\n",
              " ('enrout', 0.5488922595977783)]"
            ]
          },
          "metadata": {
            "tags": []
          },
          "execution_count": 169
        }
      ]
    },
    {
      "cell_type": "code",
      "metadata": {
        "id": "1QF5ktRNo5V2",
        "colab_type": "code",
        "colab": {},
        "outputId": "b3f80ad2-cea8-46c9-f956-f92fbdc36d67"
      },
      "source": [
        "model_w2v.wv.most_similar(positive=\"trump\")\n"
      ],
      "execution_count": 0,
      "outputs": [
        {
          "output_type": "execute_result",
          "data": {
            "text/plain": [
              "[('donald', 0.5646014213562012),\n",
              " ('phoni', 0.5530675649642944),\n",
              " ('hillari', 0.5496572256088257),\n",
              " ('unfit', 0.5430516004562378),\n",
              " ('#delegaterevolt', 0.541167140007019),\n",
              " ('endors', 0.5317304134368896),\n",
              " ('businessman', 0.5280466079711914),\n",
              " ('tomlin', 0.5254948139190674),\n",
              " ('nomine', 0.525327742099762),\n",
              " ('jibe', 0.5252704620361328)]"
            ]
          },
          "metadata": {
            "tags": []
          },
          "execution_count": 170
        }
      ]
    },
    {
      "cell_type": "code",
      "metadata": {
        "id": "l6pfjv-3o5V6",
        "colab_type": "code",
        "colab": {},
        "outputId": "134c2c33-2ea2-4fc8-dea4-90d667644a40"
      },
      "source": [
        "#vector representation of any word from corpus.\n",
        "model_w2v['food']"
      ],
      "execution_count": 0,
      "outputs": [
        {
          "output_type": "execute_result",
          "data": {
            "text/plain": [
              "array([ 0.20537156,  0.18613262,  0.38135555,  0.04864233, -0.48271042,\n",
              "       -0.20205475,  0.32512555,  0.01402179,  0.47565573, -0.20257194,\n",
              "       -0.45658153, -0.54581904,  0.30528256,  0.08608676, -0.05343911,\n",
              "        0.1627749 ,  0.33824885, -0.04346388, -0.51884824,  0.9157702 ,\n",
              "       -0.11581734, -0.09639703,  0.24795845,  0.2617217 , -0.7539403 ,\n",
              "        0.6679637 , -0.73855585, -0.33526495,  0.20579438, -0.44919977,\n",
              "        0.03457068, -0.14411938,  0.33926344, -0.3323758 ,  0.20390482,\n",
              "       -0.65700984, -0.05445968, -0.28781056,  0.856062  ,  0.73436093,\n",
              "       -0.32885778,  0.06273562, -0.4564438 ,  0.00585121, -0.34239233,\n",
              "        0.38724524,  0.53964627, -0.30826643, -0.48036045,  0.05654992,\n",
              "        0.01532195, -0.09037384,  0.11139873,  0.25618654, -0.6066187 ,\n",
              "       -0.38740534,  0.13534553, -0.07013426,  0.07613499,  0.13990371,\n",
              "        0.27460754, -0.18515426, -0.18431859,  0.7020854 ,  0.40852508,\n",
              "        0.234273  , -0.01355959, -0.06468274,  0.1270016 , -0.40651956,\n",
              "       -0.9678312 , -0.2977866 , -0.04180357, -0.60644794,  0.29365516,\n",
              "        0.35144705, -1.240558  ,  0.2872924 , -0.32700908,  0.05297646,\n",
              "        0.3560116 ,  0.07616271,  0.33180767,  0.36811528, -0.3149161 ,\n",
              "       -0.1075353 ,  0.27266213,  1.1986738 ,  0.04230116,  0.05422787,\n",
              "        0.32139957, -0.29305416, -0.6335173 , -0.3761509 ,  0.06934937,\n",
              "        0.287894  ,  1.2058933 , -0.4459777 , -0.4325162 , -0.32550308,\n",
              "       -0.03469765, -0.93004936,  0.01659305, -0.7559041 ,  0.10509787,\n",
              "        0.0459017 ,  0.15900292, -0.6210558 ,  0.4805891 ,  0.02154937,\n",
              "        0.57791805,  0.3551852 , -0.41898555, -0.0241107 , -0.01057639,\n",
              "       -0.1972207 ,  0.48978117,  0.34971815, -0.07198427,  0.32388002,\n",
              "       -0.26374885,  0.05103479, -0.28868678, -0.06373657,  0.06639381,\n",
              "        0.5553873 ,  0.01859332,  0.27605927,  0.7582737 ,  0.12759437,\n",
              "        0.2688748 ,  0.55658084,  0.2466363 , -0.0187361 , -0.5940773 ,\n",
              "        0.29795098,  0.03459881,  0.16414456,  0.4959972 , -0.6409541 ,\n",
              "        1.0242527 , -0.54647523,  0.69482744, -0.1173998 ,  0.5628998 ,\n",
              "        0.19310047,  0.48786515,  0.36856326, -0.4883126 ,  0.11388181,\n",
              "        0.04940487, -0.46029752,  0.5356791 , -0.564234  ,  0.04688305,\n",
              "       -0.12145995, -0.04755376, -0.18430085,  0.15681903,  0.7531085 ,\n",
              "       -0.22956063, -0.9368251 , -0.17542456, -0.21868253,  0.52978504,\n",
              "        0.44973174, -0.09897202, -0.50763685, -0.25145233, -0.10988972,\n",
              "       -0.07316209,  0.5349359 ,  0.75247604, -0.3463773 , -0.05992268,\n",
              "       -0.11725643,  0.21078715,  0.34077162, -0.5501225 ,  0.31953558,\n",
              "       -0.33438852, -0.85361546,  0.3937664 ,  0.20356111, -0.21570295,\n",
              "        1.1547117 , -0.5663576 , -0.6274363 , -0.4612486 , -0.0432662 ,\n",
              "        1.0432423 , -0.4872978 , -0.8529998 , -0.10511609,  0.17459357,\n",
              "        0.02545132,  0.05165145, -0.49871388,  0.5305513 , -0.57820576],\n",
              "      dtype=float32)"
            ]
          },
          "metadata": {
            "tags": []
          },
          "execution_count": 171
        }
      ]
    },
    {
      "cell_type": "code",
      "metadata": {
        "id": "50d2mXJQo5V8",
        "colab_type": "code",
        "colab": {},
        "outputId": "7808df0b-ac7c-4c3c-f651-2b525700c930"
      },
      "source": [
        "len(model_w2v['food'])"
      ],
      "execution_count": 0,
      "outputs": [
        {
          "output_type": "execute_result",
          "data": {
            "text/plain": [
              "200"
            ]
          },
          "metadata": {
            "tags": []
          },
          "execution_count": 172
        }
      ]
    },
    {
      "cell_type": "markdown",
      "metadata": {
        "id": "LPNFRkX9o5V_",
        "colab_type": "text"
      },
      "source": [
        "From the above two examples, we can see that our word2vec model does a good job of finding the most similar words for a given word"
      ]
    },
    {
      "cell_type": "markdown",
      "metadata": {
        "id": "45S5puCoo5WA",
        "colab_type": "text"
      },
      "source": [
        "#### Preparing Vectors for Tweets"
      ]
    },
    {
      "cell_type": "code",
      "metadata": {
        "id": "r9AquOdOo5WB",
        "colab_type": "code",
        "colab": {}
      },
      "source": [
        "def word_vector(tokens, size):\n",
        "    vec = np.zeros(size).reshape((1, size))\n",
        "    count = 0.\n",
        "    for word in tokens:\n",
        "        try:\n",
        "            vec += model_w2v[word].reshape((1, size))\n",
        "            count += 1.\n",
        "        except KeyError: # handling the case where the token is not in vocabulary\n",
        "                         \n",
        "            continue\n",
        "    if count != 0:\n",
        "        vec /= count\n",
        "    return vec"
      ],
      "execution_count": 0,
      "outputs": []
    },
    {
      "cell_type": "code",
      "metadata": {
        "id": "K2aS5-1Do5WD",
        "colab_type": "code",
        "colab": {},
        "outputId": "507ef6a0-299c-4c1d-dd89-71175356bae5"
      },
      "source": [
        "wordvec_arrays = np.zeros((len(tokenized_tweet), 200))\n",
        "\n",
        "for i in range(len(tokenized_tweet)):\n",
        "    wordvec_arrays[i,:] = word_vector(tokenized_tweet[i], 200)\n",
        "    \n",
        "wordvec_df = pd.DataFrame(wordvec_arrays)\n",
        "wordvec_df.shape"
      ],
      "execution_count": 0,
      "outputs": [
        {
          "output_type": "execute_result",
          "data": {
            "text/plain": [
              "(49159, 200)"
            ]
          },
          "metadata": {
            "tags": []
          },
          "execution_count": 174
        }
      ]
    },
    {
      "cell_type": "markdown",
      "metadata": {
        "id": "6SecFPK3o5WG",
        "colab_type": "text"
      },
      "source": [
        "Now we have 200 new features, whereas in Bag of Words and TF-IDF we had 1000 features.\n",
        "\n"
      ]
    },
    {
      "cell_type": "markdown",
      "metadata": {
        "id": "cKKjUfN3o5WG",
        "colab_type": "text"
      },
      "source": [
        "## ML MODELS"
      ]
    },
    {
      "cell_type": "markdown",
      "metadata": {
        "id": "2ZPuIm7xo5WI",
        "colab_type": "text"
      },
      "source": [
        "We are now done with all the pre-modeling stages required to get the data in the proper form and shape. We will be building models on the datasets with different feature sets prepared in the earlier sections — Bag-of-Words, TF-IDF and word2vec vectors. We will use the following algorithms to build models:\n",
        "\n",
        "1.Logistic Regression\n",
        "\n",
        "2.Support Vector Machine\n",
        "\n",
        "3.RandomForest\n",
        "\n",
        "4.Naive Bayes\n",
        "\n",
        "5.XGBoost"
      ]
    },
    {
      "cell_type": "markdown",
      "metadata": {
        "id": "bsdGd3nOo5WJ",
        "colab_type": "text"
      },
      "source": [
        "## 1. logistic regression (BOW)"
      ]
    },
    {
      "cell_type": "code",
      "metadata": {
        "id": "ES542VXio5WK",
        "colab_type": "code",
        "colab": {}
      },
      "source": [
        "from sklearn.linear_model import LogisticRegression\n",
        "from sklearn.model_selection import train_test_split\n",
        "from sklearn.metrics import f1_score\n",
        "warnings.filterwarnings(\"ignore\") \n",
        "\n",
        "\n",
        "train_bow = bow[:31962,:]\n",
        "test_bow = bow[31962:,:]\n",
        "\n",
        "# splitting data into training and validation set\n",
        "xtrain_bow, xvalid_bow, ytrain, yvalid = train_test_split(train_bow, train['label'],  \n",
        "                                                          random_state=42, \n",
        "                                                          test_size=0.3)# calculating f1 score"
      ],
      "execution_count": 0,
      "outputs": []
    },
    {
      "cell_type": "code",
      "metadata": {
        "id": "AQ6FWvbFo5WP",
        "colab_type": "code",
        "colab": {},
        "outputId": "57e78351-07e5-434f-964d-2b002238ea8f"
      },
      "source": [
        "lreg = LogisticRegression()\n",
        "lreg.fit(xtrain_bow, ytrain) # training the model\n",
        "\n",
        "prediction = lreg.predict_proba(xvalid_bow) # predicting on the validation set\n",
        "prediction_int = prediction[:,1] >= 0.3 # if prediction is greater than or equal to 0.3 than 1 else 0\n",
        "prediction_int = prediction_int.astype(np.int)\n",
        "\n",
        "f1_score(yvalid, prediction_int) # calculating f1 score"
      ],
      "execution_count": 0,
      "outputs": [
        {
          "output_type": "execute_result",
          "data": {
            "text/plain": [
              "0.5307820299500832"
            ]
          },
          "metadata": {
            "tags": []
          },
          "execution_count": 176
        }
      ]
    },
    {
      "cell_type": "markdown",
      "metadata": {
        "id": "wcdlbCv4o5WT",
        "colab_type": "text"
      },
      "source": [
        "### logistic regression (tfidf)"
      ]
    },
    {
      "cell_type": "code",
      "metadata": {
        "id": "Q6aYbao6o5WU",
        "colab_type": "code",
        "colab": {},
        "outputId": "5852189d-89fa-4434-b9a5-80d31abd3782"
      },
      "source": [
        "train_tfidf = tfidf[:31962,:]\n",
        "test_tfidf = tfidf[31962:,:]\n",
        "\n",
        "xtrain_tfidf = train_tfidf[ytrain.index]\n",
        "xvalid_tfidf = train_tfidf[yvalid.index]\n",
        "\n",
        "lreg.fit(xtrain_tfidf, ytrain)\n",
        "\n",
        "prediction = lreg.predict_proba(xvalid_tfidf)\n",
        "prediction_int = prediction[:,1] >= 0.3\n",
        "prediction_int = prediction_int.astype(np.int)\n",
        "f1_score(yvalid, prediction_int)\n"
      ],
      "execution_count": 0,
      "outputs": [
        {
          "output_type": "execute_result",
          "data": {
            "text/plain": [
              "0.5446507515473032"
            ]
          },
          "metadata": {
            "tags": []
          },
          "execution_count": 177
        }
      ]
    },
    {
      "cell_type": "markdown",
      "metadata": {
        "id": "tZPS-MJPo5WW",
        "colab_type": "text"
      },
      "source": [
        "#### logistic regression (Word2Vec )"
      ]
    },
    {
      "cell_type": "code",
      "metadata": {
        "id": "6a5rNC-Co5WX",
        "colab_type": "code",
        "colab": {},
        "outputId": "52417a2d-254c-4fb0-b981-0ccfe55a4161"
      },
      "source": [
        "train_w2v = wordvec_df.iloc[:31962,:]\n",
        "test_w2v = wordvec_df.iloc[31962:,:] \n",
        "xtrain_w2v = train_w2v.iloc[ytrain.index,:]\n",
        "xvalid_w2v = train_w2v.iloc[yvalid.index,:]\n",
        "lreg.fit(xtrain_w2v, ytrain) \n",
        "prediction = lreg.predict_proba(xvalid_w2v) \n",
        "prediction_int = prediction[:,1] >= 0.3\n",
        "prediction_int = prediction_int.astype(np.int) \n",
        "f1_score(yvalid, prediction_int)"
      ],
      "execution_count": 0,
      "outputs": [
        {
          "output_type": "execute_result",
          "data": {
            "text/plain": [
              "0.6101694915254238"
            ]
          },
          "metadata": {
            "tags": []
          },
          "execution_count": 178
        }
      ]
    },
    {
      "cell_type": "markdown",
      "metadata": {
        "id": "r5yAjG7po5WZ",
        "colab_type": "text"
      },
      "source": [
        "## 2.SVM"
      ]
    },
    {
      "cell_type": "markdown",
      "metadata": {
        "id": "MZfP3XRBo5Wa",
        "colab_type": "text"
      },
      "source": [
        "#### SVM(BOW)"
      ]
    },
    {
      "cell_type": "code",
      "metadata": {
        "id": "DgEALJPgo5Wb",
        "colab_type": "code",
        "colab": {},
        "outputId": "08e381ec-46a4-4d3e-cd24-c1eb4bd89f59"
      },
      "source": [
        "from sklearn import svm\n",
        "\n",
        "svc = svm.SVC(kernel='linear', C=1, probability=True).fit(xtrain_bow, ytrain) \n",
        "prediction = svc.predict_proba(xvalid_bow) \n",
        "prediction_int = prediction[:,1] >= 0.3 \n",
        "prediction_int = prediction_int.astype(np.int) \n",
        "f1_score(yvalid, prediction_int)"
      ],
      "execution_count": 0,
      "outputs": [
        {
          "output_type": "execute_result",
          "data": {
            "text/plain": [
              "0.5088207985143919"
            ]
          },
          "metadata": {
            "tags": []
          },
          "execution_count": 180
        }
      ]
    },
    {
      "cell_type": "markdown",
      "metadata": {
        "id": "Zj8cvR_mo5Wg",
        "colab_type": "text"
      },
      "source": [
        "#### SVM(TFIDF)\n"
      ]
    },
    {
      "cell_type": "code",
      "metadata": {
        "id": "eQptqzTpo5Wh",
        "colab_type": "code",
        "colab": {},
        "outputId": "8f3b13fe-f66d-4bb9-c81c-a0e652801608"
      },
      "source": [
        "svc = svm.SVC(kernel='linear', \n",
        "C=1, probability=True).fit(xtrain_tfidf, ytrain) \n",
        "prediction = svc.predict_proba(xvalid_tfidf) \n",
        "prediction_int = prediction[:,1] >= 0.3 \n",
        "prediction_int = prediction_int.astype(np.int) \n",
        "f1_score(yvalid, prediction_int)"
      ],
      "execution_count": 0,
      "outputs": [
        {
          "output_type": "execute_result",
          "data": {
            "text/plain": [
              "0.5109489051094891"
            ]
          },
          "metadata": {
            "tags": []
          },
          "execution_count": 181
        }
      ]
    },
    {
      "cell_type": "markdown",
      "metadata": {
        "id": "FO9zP0xMo5Wk",
        "colab_type": "text"
      },
      "source": [
        "#### SVM(W2V)\n"
      ]
    },
    {
      "cell_type": "code",
      "metadata": {
        "id": "CKf5zsnLo5Wk",
        "colab_type": "code",
        "colab": {},
        "outputId": "551c75b0-3e91-4051-dbeb-a939d3db46ee"
      },
      "source": [
        "svc = svm.SVC(kernel='linear', C=1, probability=True).fit(xtrain_w2v, ytrain) \n",
        "prediction = svc.predict_proba(xvalid_w2v) \n",
        "prediction_int = prediction[:,1] >= 0.3 \n",
        "prediction_int = prediction_int.astype(np.int)\n",
        "f1_score(yvalid, prediction_int)\n"
      ],
      "execution_count": 0,
      "outputs": [
        {
          "output_type": "execute_result",
          "data": {
            "text/plain": [
              "0.615505090054816"
            ]
          },
          "metadata": {
            "tags": []
          },
          "execution_count": 183
        }
      ]
    },
    {
      "cell_type": "markdown",
      "metadata": {
        "id": "y1dZRrjJo5Wo",
        "colab_type": "text"
      },
      "source": [
        "### 3. RANDOM FOREST"
      ]
    },
    {
      "cell_type": "markdown",
      "metadata": {
        "id": "oakzhx2Bo5Wp",
        "colab_type": "text"
      },
      "source": [
        "#### RANDOM FOREST(BOW)"
      ]
    },
    {
      "cell_type": "code",
      "metadata": {
        "id": "rR-vJjRzo5Wq",
        "colab_type": "code",
        "colab": {},
        "outputId": "705f01fe-e1ea-428c-f8ac-47eae69ef71b"
      },
      "source": [
        "from sklearn.ensemble import RandomForestClassifier\n",
        "\n",
        "rf = RandomForestClassifier(n_estimators=400, random_state=11).fit(xtrain_bow, ytrain) \n",
        "prediction = rf.predict(xvalid_bow) \n",
        "# validation score \n",
        "f1_score(yvalid, prediction)"
      ],
      "execution_count": 0,
      "outputs": [
        {
          "output_type": "execute_result",
          "data": {
            "text/plain": [
              "0.5529225908372828"
            ]
          },
          "metadata": {
            "tags": []
          },
          "execution_count": 187
        }
      ]
    },
    {
      "cell_type": "markdown",
      "metadata": {
        "id": "MIwutGqho5Wt",
        "colab_type": "text"
      },
      "source": [
        "#### RANDOM FOREST(TFIDF)"
      ]
    },
    {
      "cell_type": "code",
      "metadata": {
        "id": "7rinXw9Ko5Wt",
        "colab_type": "code",
        "colab": {},
        "outputId": "61821c41-b7c4-4a40-91d2-555aacf63137"
      },
      "source": [
        "rf = RandomForestClassifier(n_estimators=400, random_state=11).fit(xtrain_tfidf, ytrain) \n",
        "prediction = rf.predict(xvalid_tfidf) \n",
        "f1_score(yvalid, prediction)"
      ],
      "execution_count": 0,
      "outputs": [
        {
          "output_type": "execute_result",
          "data": {
            "text/plain": [
              "0.562152133580705"
            ]
          },
          "metadata": {
            "tags": []
          },
          "execution_count": 188
        }
      ]
    },
    {
      "cell_type": "markdown",
      "metadata": {
        "id": "13-gSv6jo5Ww",
        "colab_type": "text"
      },
      "source": [
        "#### RANDOM FOREST(W2V)"
      ]
    },
    {
      "cell_type": "code",
      "metadata": {
        "id": "fhdEmI9-o5Wx",
        "colab_type": "code",
        "colab": {},
        "outputId": "ba6eba56-2a47-48a6-a20f-30cfb72992a0"
      },
      "source": [
        "rf = RandomForestClassifier(n_estimators=400, random_state=11).fit(xtrain_w2v, ytrain) \n",
        "prediction = rf.predict(xvalid_w2v) \n",
        "f1_score(yvalid, prediction)"
      ],
      "execution_count": 0,
      "outputs": [
        {
          "output_type": "execute_result",
          "data": {
            "text/plain": [
              "0.49404117009750814"
            ]
          },
          "metadata": {
            "tags": []
          },
          "execution_count": 190
        }
      ]
    },
    {
      "cell_type": "markdown",
      "metadata": {
        "id": "quCNd1EPo5W0",
        "colab_type": "text"
      },
      "source": [
        "### 4.NAIVE BAYES"
      ]
    },
    {
      "cell_type": "markdown",
      "metadata": {
        "id": "ooU69vFno5W1",
        "colab_type": "text"
      },
      "source": [
        "#### NAIVE BAYES(BOW)"
      ]
    },
    {
      "cell_type": "code",
      "metadata": {
        "id": "pDejRzzHo5W2",
        "colab_type": "code",
        "colab": {},
        "outputId": "67bfc6a9-f1b1-477d-ec36-09c5c452c6a8"
      },
      "source": [
        "from sklearn.naive_bayes import BernoulliNB\n",
        "NB = BernoulliNB(alpha=0.1).fit(xtrain_bow, ytrain) \n",
        "prediction = NB.predict(xvalid_bow) \n",
        "# validation score \n",
        "f1_score(yvalid, prediction)"
      ],
      "execution_count": 0,
      "outputs": [
        {
          "output_type": "execute_result",
          "data": {
            "text/plain": [
              "0.5270588235294118"
            ]
          },
          "metadata": {
            "tags": []
          },
          "execution_count": 199
        }
      ]
    },
    {
      "cell_type": "markdown",
      "metadata": {
        "id": "Olawh8Xoo5W4",
        "colab_type": "text"
      },
      "source": [
        "#### NAIVE BAYES(TFIDF)"
      ]
    },
    {
      "cell_type": "code",
      "metadata": {
        "id": "Q7bCW3fho5W4",
        "colab_type": "code",
        "colab": {},
        "outputId": "c9209a5a-8c5a-44a5-def0-0c2580938ea3"
      },
      "source": [
        "NB = BernoulliNB(alpha=0.1).fit(xtrain_tfidf, ytrain) \n",
        "prediction = NB.predict(xvalid_tfidf) \n",
        "f1_score(yvalid, prediction)"
      ],
      "execution_count": 0,
      "outputs": [
        {
          "output_type": "execute_result",
          "data": {
            "text/plain": [
              "0.5270588235294118"
            ]
          },
          "metadata": {
            "tags": []
          },
          "execution_count": 200
        }
      ]
    },
    {
      "cell_type": "markdown",
      "metadata": {
        "id": "2otSbvAro5W6",
        "colab_type": "text"
      },
      "source": [
        "#### NAIVE BAYES(W2V)"
      ]
    },
    {
      "cell_type": "code",
      "metadata": {
        "id": "ZrumC6Sho5W7",
        "colab_type": "code",
        "colab": {},
        "outputId": "fa24645d-5939-4b9a-cca5-cf01e22c498d"
      },
      "source": [
        "NB = BernoulliNB(alpha=0.1).fit(xtrain_w2v, ytrain) \n",
        "prediction = NB.predict(xvalid_w2v) \n",
        "f1_score(yvalid, prediction)"
      ],
      "execution_count": 0,
      "outputs": [
        {
          "output_type": "execute_result",
          "data": {
            "text/plain": [
              "0.4673231871083259"
            ]
          },
          "metadata": {
            "tags": []
          },
          "execution_count": 201
        }
      ]
    },
    {
      "cell_type": "markdown",
      "metadata": {
        "id": "Lz-7GwMgo5W9",
        "colab_type": "text"
      },
      "source": [
        "### 5.XGBoost\n",
        "\n"
      ]
    },
    {
      "cell_type": "markdown",
      "metadata": {
        "id": "DFCc4YXgo5W9",
        "colab_type": "text"
      },
      "source": [
        "#### XGBoost(BOW)"
      ]
    },
    {
      "cell_type": "code",
      "metadata": {
        "id": "NE7H397Vo5W-",
        "colab_type": "code",
        "colab": {},
        "outputId": "e6d84d1e-0412-4d3d-db83-0a09e7c1e52a"
      },
      "source": [
        "from xgboost import XGBClassifier\n",
        "\n",
        "xgb_model = XGBClassifier(max_depth=6, n_estimators=1000).fit(xtrain_bow, ytrain) \n",
        "prediction = xgb_model.predict(xvalid_bow) \n",
        "f1_score(yvalid, prediction)\n"
      ],
      "execution_count": 0,
      "outputs": [
        {
          "output_type": "execute_result",
          "data": {
            "text/plain": [
              "0.5130687318489837"
            ]
          },
          "metadata": {
            "tags": []
          },
          "execution_count": 203
        }
      ]
    },
    {
      "cell_type": "markdown",
      "metadata": {
        "id": "_MIqR00no5XB",
        "colab_type": "text"
      },
      "source": [
        "#### XGBoost(TFIDF)"
      ]
    },
    {
      "cell_type": "code",
      "metadata": {
        "id": "JdEarUDdo5XC",
        "colab_type": "code",
        "colab": {},
        "outputId": "37eeed8a-0515-4e79-9b42-72eb93b34780"
      },
      "source": [
        "xgb = XGBClassifier(max_depth=6, n_estimators=1000).fit(xtrain_tfidf, ytrain) \n",
        "prediction = xgb.predict(xvalid_tfidf) \n",
        "f1_score(yvalid, prediction)"
      ],
      "execution_count": 0,
      "outputs": [
        {
          "output_type": "execute_result",
          "data": {
            "text/plain": [
              "0.5185891325071497"
            ]
          },
          "metadata": {
            "tags": []
          },
          "execution_count": 204
        }
      ]
    },
    {
      "cell_type": "markdown",
      "metadata": {
        "id": "QZ4RQ3tto5XD",
        "colab_type": "text"
      },
      "source": [
        "#### XGBoost(W2V)"
      ]
    },
    {
      "cell_type": "code",
      "metadata": {
        "id": "iasAn7JVo5XE",
        "colab_type": "code",
        "colab": {},
        "outputId": "6ce05888-7857-467b-b647-0ff412de9ab1"
      },
      "source": [
        "xgb = XGBClassifier(max_depth=6, n_estimators=1000, nthread= 3).fit(xtrain_w2v, ytrain) \n",
        "prediction = xgb.predict(xvalid_w2v) \n",
        "f1_score(yvalid, prediction)"
      ],
      "execution_count": 0,
      "outputs": [
        {
          "output_type": "execute_result",
          "data": {
            "text/plain": [
              "0.6462093862815884"
            ]
          },
          "metadata": {
            "tags": []
          },
          "execution_count": 205
        }
      ]
    },
    {
      "cell_type": "markdown",
      "metadata": {
        "id": "Lls1ZejIo5XG",
        "colab_type": "text"
      },
      "source": [
        "XGBoost with Word2Vec model has given us the best performance so far.we will tune it now. now we will use DMatrices A DMatrix can contain both the features and the target."
      ]
    },
    {
      "cell_type": "code",
      "metadata": {
        "id": "4y4TUmQso5XH",
        "colab_type": "code",
        "colab": {}
      },
      "source": [
        "import xgboost as xgb\n",
        "\n",
        "\n",
        "dtrain = xgb.DMatrix(xtrain_w2v, label=ytrain) \n",
        "dvalid = xgb.DMatrix(xvalid_w2v, label=yvalid) \n",
        "dtest = xgb.DMatrix(test_w2v)"
      ],
      "execution_count": 0,
      "outputs": []
    },
    {
      "cell_type": "code",
      "metadata": {
        "id": "JqFSS4XAo5XI",
        "colab_type": "code",
        "colab": {}
      },
      "source": [
        "# Parameters that we are going to tune \n",
        "params = {\n",
        "    'objective':'binary:logistic',\n",
        "    'max_depth':6,\n",
        "    'min_child_weight': 1,\n",
        "    'eta':.3,\n",
        "    'subsample': 1,\n",
        "    'colsample_bytree': 1\n",
        " }"
      ],
      "execution_count": 0,
      "outputs": []
    },
    {
      "cell_type": "markdown",
      "metadata": {
        "id": "n8FmTAN4o5XK",
        "colab_type": "text"
      },
      "source": [
        "We will prepare a custom evaluation metric to calculate F1 score.\n",
        "\n"
      ]
    },
    {
      "cell_type": "code",
      "metadata": {
        "id": "b3LTjRqxo5XK",
        "colab_type": "code",
        "colab": {}
      },
      "source": [
        "def custom_eval(preds, dtrain):\n",
        "    labels = dtrain.get_label().astype(np.int)\n",
        "    preds = (preds >= 0.3).astype(np.int)\n",
        "    return [('f1_score', f1_score(labels, preds))]"
      ],
      "execution_count": 0,
      "outputs": []
    },
    {
      "cell_type": "markdown",
      "metadata": {
        "id": "zfW8kgsso5XN",
        "colab_type": "text"
      },
      "source": [
        "###  Approach for Parameter Tuning"
      ]
    },
    {
      "cell_type": "markdown",
      "metadata": {
        "id": "0i8aORy6o5XO",
        "colab_type": "text"
      },
      "source": [
        "1.Choose a relatively high learning rate. Usually a learning rate of 0.3 is used at this stage.\n",
        "\n",
        "2.Tune tree-specific parameters such as max_depth, min_child_weight, subsample, colsample_bytree keeping the learning rate fixed.\n",
        "\n",
        "3.Tune the learning rate.\n",
        "\n",
        "\n",
        "\n",
        "4.Finally tune gamma to avoid overfitting."
      ]
    },
    {
      "cell_type": "code",
      "metadata": {
        "id": "8QVq51j8o5XO",
        "colab_type": "code",
        "colab": {}
      },
      "source": [
        "#Tuning max_depth and min_child_weight\n",
        "\n",
        "gridsearch_params = [\n",
        "    (max_depth, min_child_weight)\n",
        "    for max_depth in range(6,10) \n",
        "    for min_child_weight in range(5,8)\n",
        "]"
      ],
      "execution_count": 0,
      "outputs": []
    },
    {
      "cell_type": "code",
      "metadata": {
        "id": "s5emXBolo5XR",
        "colab_type": "code",
        "colab": {},
        "outputId": "e2f53d19-4177-4d3c-b39e-a89fddcc7578"
      },
      "source": [
        "max_f1 = 0. # initializing with 0\n",
        "best_params = None\n",
        "for max_depth, min_child_weight in gridsearch_params:\n",
        "    print(\"CV with max_depth={}, min_child_weight={}\".format(\n",
        "                             max_depth,\n",
        "                             min_child_weight))\n",
        "\n",
        "    # Update our parameters\n",
        "    params['max_depth'] = max_depth\n",
        "    params['min_child_weight'] = min_child_weight\n",
        "\n",
        "    # Cross-validation\n",
        "    cv_results = xgb.cv(\n",
        "        params,\n",
        "        dtrain,\n",
        "        feval= custom_eval,\n",
        "        num_boost_round=200,\n",
        "        maximize=True,\n",
        "        seed=16,\n",
        "        nfold=5,\n",
        "        early_stopping_rounds=10\n",
        "    )\n",
        "\n",
        "    # Finding best F1 Score\n",
        "    mean_f1 = cv_results['test-f1_score-mean'].max()\n",
        "    boost_rounds = cv_results['test-f1_score-mean'].argmax()\n",
        "    print(\"\\tF1 Score {} for {} rounds\".format(mean_f1, boost_rounds))\n",
        "    if mean_f1 > max_f1:\n",
        "        max_f1 = mean_f1\n",
        "        best_params = (max_depth,min_child_weight)\n",
        "\n",
        "print(\"Best params: {}, {}, F1 Score: {}\".format(best_params[0], best_params[1], max_f1))"
      ],
      "execution_count": 0,
      "outputs": [
        {
          "output_type": "stream",
          "text": [
            "CV with max_depth=6, min_child_weight=5\n",
            "\tF1 Score 0.6780820000000001 for 89 rounds\n",
            "CV with max_depth=6, min_child_weight=6\n",
            "\tF1 Score 0.6713422 for 43 rounds\n",
            "CV with max_depth=6, min_child_weight=7\n",
            "\tF1 Score 0.6718257999999999 for 49 rounds\n",
            "CV with max_depth=7, min_child_weight=5\n",
            "\tF1 Score 0.682314 for 60 rounds\n",
            "CV with max_depth=7, min_child_weight=6\n",
            "\tF1 Score 0.6678909999999999 for 43 rounds\n",
            "CV with max_depth=7, min_child_weight=7\n",
            "\tF1 Score 0.6754394 for 46 rounds\n",
            "CV with max_depth=8, min_child_weight=5\n",
            "\tF1 Score 0.6724876 for 39 rounds\n",
            "CV with max_depth=8, min_child_weight=6\n",
            "\tF1 Score 0.6794004 for 80 rounds\n",
            "CV with max_depth=8, min_child_weight=7\n",
            "\tF1 Score 0.6753104 for 63 rounds\n",
            "CV with max_depth=9, min_child_weight=5\n",
            "\tF1 Score 0.6625618 for 31 rounds\n",
            "CV with max_depth=9, min_child_weight=6\n",
            "\tF1 Score 0.6766825999999999 for 51 rounds\n",
            "CV with max_depth=9, min_child_weight=7\n",
            "\tF1 Score 0.665072 for 32 rounds\n",
            "Best params: 7, 5, F1 Score: 0.682314\n"
          ],
          "name": "stdout"
        }
      ]
    },
    {
      "cell_type": "code",
      "metadata": {
        "id": "CzHfDGaVo5XS",
        "colab_type": "code",
        "colab": {}
      },
      "source": [
        "#Updating max_depth and min_child_weight parameters.\n",
        "\n",
        "params['max_depth'] = 8 \n",
        "params['min_child_weight'] = 6"
      ],
      "execution_count": 0,
      "outputs": []
    },
    {
      "cell_type": "markdown",
      "metadata": {
        "id": "0vvou9hOo5XU",
        "colab_type": "text"
      },
      "source": [
        "Tuning subsample and colsample.\n",
        "\n"
      ]
    },
    {
      "cell_type": "code",
      "metadata": {
        "id": "m8EKl0pmo5XU",
        "colab_type": "code",
        "colab": {}
      },
      "source": [
        "gridsearch_params = [\n",
        "    (subsample, colsample)\n",
        "    for subsample in [i/10. for i in range(5,10)]\n",
        "    for colsample in [i/10. for i in range(5,10)]\n",
        "]"
      ],
      "execution_count": 0,
      "outputs": []
    },
    {
      "cell_type": "code",
      "metadata": {
        "id": "3XW8Mcrao5XW",
        "colab_type": "code",
        "colab": {},
        "outputId": "a6bc0b71-a9d6-4851-ef9d-5ae18500455f"
      },
      "source": [
        "max_f1 = 0.\n",
        "best_params = None\n",
        "for subsample, colsample in gridsearch_params:\n",
        "    print(\"CV with subsample={}, colsample={}\".format(\n",
        "                             subsample,\n",
        "                             colsample))\n",
        "\n",
        "    # Update our parameters\n",
        "    params['colsample'] = colsample\n",
        "    params['subsample'] = subsample\n",
        "\n",
        "    cv_results = xgb.cv(\n",
        "        params,\n",
        "        dtrain,\n",
        "        feval= custom_eval,\n",
        "        num_boost_round=200,\n",
        "        maximize=True,\n",
        "        seed=16,\n",
        "        nfold=5,\n",
        "        early_stopping_rounds=10\n",
        "    )\n",
        "\n",
        "    # Finding best F1 Score\n",
        "    mean_f1 = cv_results['test-f1_score-mean'].max()\n",
        "    boost_rounds = cv_results['test-f1_score-mean'].argmax()\n",
        "    print(\"\\tF1 Score {} for {} rounds\".format(mean_f1, boost_rounds))\n",
        "    if mean_f1 > max_f1:\n",
        "        max_f1 = mean_f1\n",
        "        best_params = (subsample, colsample)\n",
        "\n",
        "print(\"Best params: {}, {}, F1 Score: {}\".format(best_params[0], best_params[1], max_f1))"
      ],
      "execution_count": 0,
      "outputs": [
        {
          "output_type": "stream",
          "text": [
            "CV with subsample=0.5, colsample=0.5\n",
            "\tF1 Score 0.6655930000000001 for 73 rounds\n",
            "CV with subsample=0.5, colsample=0.6\n",
            "\tF1 Score 0.6655930000000001 for 73 rounds\n",
            "CV with subsample=0.5, colsample=0.7\n",
            "\tF1 Score 0.6655930000000001 for 73 rounds\n",
            "CV with subsample=0.5, colsample=0.8\n",
            "\tF1 Score 0.6655930000000001 for 73 rounds\n",
            "CV with subsample=0.5, colsample=0.9\n",
            "\tF1 Score 0.6655930000000001 for 73 rounds\n",
            "CV with subsample=0.6, colsample=0.5\n",
            "\tF1 Score 0.6576594 for 54 rounds\n",
            "CV with subsample=0.6, colsample=0.6\n",
            "\tF1 Score 0.6576594 for 54 rounds\n",
            "CV with subsample=0.6, colsample=0.7\n",
            "\tF1 Score 0.6576594 for 54 rounds\n",
            "CV with subsample=0.6, colsample=0.8\n",
            "\tF1 Score 0.6576594 for 54 rounds\n",
            "CV with subsample=0.6, colsample=0.9\n",
            "\tF1 Score 0.6576594 for 54 rounds\n",
            "CV with subsample=0.7, colsample=0.5\n",
            "\tF1 Score 0.6514852 for 27 rounds\n",
            "CV with subsample=0.7, colsample=0.6\n",
            "\tF1 Score 0.6514852 for 27 rounds\n",
            "CV with subsample=0.7, colsample=0.7\n",
            "\tF1 Score 0.6514852 for 27 rounds\n",
            "CV with subsample=0.7, colsample=0.8\n",
            "\tF1 Score 0.6514852 for 27 rounds\n",
            "CV with subsample=0.7, colsample=0.9\n",
            "\tF1 Score 0.6514852 for 27 rounds\n",
            "CV with subsample=0.8, colsample=0.5\n",
            "\tF1 Score 0.6676931999999999 for 46 rounds\n",
            "CV with subsample=0.8, colsample=0.6\n",
            "\tF1 Score 0.6676931999999999 for 46 rounds\n",
            "CV with subsample=0.8, colsample=0.7\n",
            "\tF1 Score 0.6676931999999999 for 46 rounds\n",
            "CV with subsample=0.8, colsample=0.8\n",
            "\tF1 Score 0.6676931999999999 for 46 rounds\n",
            "CV with subsample=0.8, colsample=0.9\n",
            "\tF1 Score 0.6676931999999999 for 46 rounds\n",
            "CV with subsample=0.9, colsample=0.5\n",
            "\tF1 Score 0.669609 for 59 rounds\n",
            "CV with subsample=0.9, colsample=0.6\n",
            "\tF1 Score 0.669609 for 59 rounds\n",
            "CV with subsample=0.9, colsample=0.7\n",
            "\tF1 Score 0.669609 for 59 rounds\n",
            "CV with subsample=0.9, colsample=0.8\n",
            "\tF1 Score 0.669609 for 59 rounds\n",
            "CV with subsample=0.9, colsample=0.9\n",
            "\tF1 Score 0.669609 for 59 rounds\n",
            "Best params: 0.9, 0.5, F1 Score: 0.669609\n"
          ],
          "name": "stdout"
        }
      ]
    },
    {
      "cell_type": "markdown",
      "metadata": {
        "id": "UX0oHcQgo5XY",
        "colab_type": "text"
      },
      "source": [
        "Updating subsample and colsample_bytree.\n",
        "\n"
      ]
    },
    {
      "cell_type": "code",
      "metadata": {
        "id": "NYEfvATKo5XY",
        "colab_type": "code",
        "colab": {}
      },
      "source": [
        "params['subsample'] = .9\n",
        "params['colsample_bytree'] = .5"
      ],
      "execution_count": 0,
      "outputs": []
    },
    {
      "cell_type": "markdown",
      "metadata": {
        "id": "-ZBiTKn7o5XZ",
        "colab_type": "text"
      },
      "source": [
        "Now let's tune the learning rate.\n",
        "\n"
      ]
    },
    {
      "cell_type": "code",
      "metadata": {
        "id": "it8DqCXwo5Xa",
        "colab_type": "code",
        "colab": {},
        "outputId": "099b2eea-6e53-42c8-ebd3-f20da4a5d974"
      },
      "source": [
        "max_f1 = 0.\n",
        "best_params = None\n",
        "for eta in [.3, .2, .1, .05, .01, .005]:\n",
        "    print(\"CV with eta={}\".format(eta))\n",
        "\n",
        "    # Update ETA\n",
        "    params['eta'] = eta\n",
        "\n",
        "    # Run CV\n",
        "    cv_results = xgb.cv(\n",
        "        params,\n",
        "        dtrain,\n",
        "        feval= custom_eval,\n",
        "        num_boost_round=1000,\n",
        "        maximize=True,\n",
        "        seed=16,\n",
        "        nfold=5,\n",
        "        early_stopping_rounds=20\n",
        "    )\n",
        "\n",
        "    # Finding best F1 Score\n",
        "    mean_f1 = cv_results['test-f1_score-mean'].max()\n",
        "    boost_rounds = cv_results['test-f1_score-mean'].argmax()\n",
        "    print(\"\\tF1 Score {} for {} rounds\".format(mean_f1, boost_rounds))\n",
        "    if mean_f1 > max_f1:\n",
        "        max_f1 = mean_f1\n",
        "        best_params = eta\n",
        "\n",
        "print(\"Best params: {}, F1 Score: {}\".format(best_params, max_f1))\n"
      ],
      "execution_count": 0,
      "outputs": [
        {
          "output_type": "stream",
          "text": [
            "CV with eta=0.3\n",
            "\tF1 Score 0.6619816000000001 for 87 rounds\n",
            "CV with eta=0.2\n",
            "\tF1 Score 0.6726802000000001 for 65 rounds\n",
            "CV with eta=0.1\n",
            "\tF1 Score 0.685687 for 191 rounds\n",
            "CV with eta=0.05\n",
            "\tF1 Score 0.6217436000000001 for 26 rounds\n",
            "CV with eta=0.01\n",
            "\tF1 Score 0.1302024 for 0 rounds\n",
            "CV with eta=0.005\n",
            "\tF1 Score 0.1302024 for 0 rounds\n",
            "Best params: 0.1, F1 Score: 0.685687\n"
          ],
          "name": "stdout"
        }
      ]
    },
    {
      "cell_type": "code",
      "metadata": {
        "id": "ttSJtuuVo5Xc",
        "colab_type": "code",
        "colab": {}
      },
      "source": [
        "params['eta'] = .1"
      ],
      "execution_count": 0,
      "outputs": []
    },
    {
      "cell_type": "markdown",
      "metadata": {
        "id": "_zKMlPvuo5Xd",
        "colab_type": "text"
      },
      "source": [
        "Now lets tune gamma value using the parameters already tuned above. We’ll check for 5 values here."
      ]
    },
    {
      "cell_type": "code",
      "metadata": {
        "id": "6fogJNLSo5Xf",
        "colab_type": "code",
        "colab": {},
        "outputId": "c13c5b4c-3944-450b-de4e-f299ab8b3ea3"
      },
      "source": [
        "max_f1 = 0.\n",
        "best_params = None\n",
        "for gamma in range(0,15):\n",
        "    print(\"CV with gamma={}\".format(gamma/10.))\n",
        "\n",
        "    # Update ETA\n",
        "    params['gamma'] = gamma/10.\n",
        "\n",
        "    # Run CV\n",
        "    cv_results = xgb.cv(\n",
        "        params,\n",
        "        dtrain,\n",
        "        feval= custom_eval,\n",
        "        num_boost_round=200,\n",
        "        maximize=True,\n",
        "        seed=16,\n",
        "        nfold=5,\n",
        "        early_stopping_rounds=10\n",
        "    )\n",
        "\n",
        "    # Finding best F1 Score\n",
        "    mean_f1 = cv_results['test-f1_score-mean'].max()\n",
        "    boost_rounds = cv_results['test-f1_score-mean'].argmax()\n",
        "    print(\"\\tF1 Score {} for {} rounds\".format(mean_f1, boost_rounds))\n",
        "    if mean_f1 > max_f1:\n",
        "        max_f1 = mean_f1\n",
        "        best_params = gamma/10.\n",
        "\n",
        "print(\"Best params: {}, F1 Score: {}\".format(best_params, max_f1))"
      ],
      "execution_count": 0,
      "outputs": [
        {
          "output_type": "stream",
          "text": [
            "CV with gamma=0.0\n",
            "\tF1 Score 0.661015 for 76 rounds\n",
            "CV with gamma=0.1\n",
            "\tF1 Score 0.6783446 for 115 rounds\n",
            "CV with gamma=0.2\n",
            "\tF1 Score 0.6761342000000001 for 114 rounds\n",
            "CV with gamma=0.3\n",
            "\tF1 Score 0.6471678 for 51 rounds\n",
            "CV with gamma=0.4\n",
            "\tF1 Score 0.6298266000000001 for 25 rounds\n",
            "CV with gamma=0.5\n",
            "\tF1 Score 0.679322 for 96 rounds\n",
            "CV with gamma=0.6\n",
            "\tF1 Score 0.6625951999999999 for 75 rounds\n",
            "CV with gamma=0.7\n",
            "\tF1 Score 0.6784636000000001 for 129 rounds\n",
            "CV with gamma=0.8\n",
            "\tF1 Score 0.6881611999999999 for 122 rounds\n",
            "CV with gamma=0.9\n",
            "\tF1 Score 0.6781224 for 121 rounds\n",
            "CV with gamma=1.0\n",
            "\tF1 Score 0.6853914 for 130 rounds\n",
            "CV with gamma=1.1\n",
            "\tF1 Score 0.6748457999999999 for 112 rounds\n",
            "CV with gamma=1.2\n",
            "\tF1 Score 0.6656234000000001 for 78 rounds\n",
            "CV with gamma=1.3\n",
            "\tF1 Score 0.675151 for 108 rounds\n",
            "CV with gamma=1.4\n",
            "\tF1 Score 0.6778692000000002 for 95 rounds\n",
            "Best params: 0.8, F1 Score: 0.6881611999999999\n"
          ],
          "name": "stdout"
        }
      ]
    },
    {
      "cell_type": "code",
      "metadata": {
        "id": "g-Ohr_pRo5Xg",
        "colab_type": "code",
        "colab": {}
      },
      "source": [
        "params['gamma'] = 1.2"
      ],
      "execution_count": 0,
      "outputs": []
    },
    {
      "cell_type": "code",
      "metadata": {
        "id": "66eOCBpZo5Xh",
        "colab_type": "code",
        "colab": {},
        "outputId": "29e9dbda-fdc7-4ae1-d679-3092b87bfb0b"
      },
      "source": [
        "params"
      ],
      "execution_count": 0,
      "outputs": [
        {
          "output_type": "execute_result",
          "data": {
            "text/plain": [
              "{'objective': 'binary:logistic',\n",
              " 'max_depth': 8,\n",
              " 'min_child_weight': 6,\n",
              " 'eta': 0.1,\n",
              " 'subsample': 0.9,\n",
              " 'colsample_bytree': 0.5,\n",
              " 'colsample': 0.9,\n",
              " 'gamma': 1.2}"
            ]
          },
          "metadata": {
            "tags": []
          },
          "execution_count": 233
        }
      ]
    },
    {
      "cell_type": "code",
      "metadata": {
        "id": "M3jkSME-o5Xj",
        "colab_type": "code",
        "colab": {},
        "outputId": "4e8999f9-e42f-42d7-b65f-6a41a7659060"
      },
      "source": [
        "xgb_model = xgb.train(\n",
        "    params,\n",
        "    dtrain,\n",
        "    feval= custom_eval,\n",
        "    num_boost_round= 1000,\n",
        "    maximize=True,\n",
        "    evals=[(dvalid, \"Validation\")],\n",
        "    early_stopping_rounds=10\n",
        ")"
      ],
      "execution_count": 0,
      "outputs": [
        {
          "output_type": "stream",
          "text": [
            "[0]\tValidation-error:0.068307\tValidation-f1_score:0.133165\n",
            "Multiple eval metrics have been passed: 'Validation-f1_score' will be used for early stopping.\n",
            "\n",
            "Will train until Validation-f1_score hasn't improved in 10 rounds.\n",
            "[1]\tValidation-error:0.058087\tValidation-f1_score:0.133165\n",
            "[2]\tValidation-error:0.056315\tValidation-f1_score:0.133165\n",
            "[3]\tValidation-error:0.05475\tValidation-f1_score:0.133165\n",
            "[4]\tValidation-error:0.054125\tValidation-f1_score:0.133165\n",
            "[5]\tValidation-error:0.053707\tValidation-f1_score:0.37184\n",
            "[6]\tValidation-error:0.05256\tValidation-f1_score:0.480845\n",
            "[7]\tValidation-error:0.052769\tValidation-f1_score:0.536898\n",
            "[8]\tValidation-error:0.05329\tValidation-f1_score:0.56\n",
            "[9]\tValidation-error:0.052873\tValidation-f1_score:0.58317\n",
            "[10]\tValidation-error:0.052352\tValidation-f1_score:0.592233\n",
            "[11]\tValidation-error:0.051935\tValidation-f1_score:0.592806\n",
            "[12]\tValidation-error:0.05183\tValidation-f1_score:0.600743\n",
            "[13]\tValidation-error:0.051309\tValidation-f1_score:0.599847\n",
            "[14]\tValidation-error:0.051517\tValidation-f1_score:0.600784\n",
            "[15]\tValidation-error:0.051205\tValidation-f1_score:0.599524\n",
            "[16]\tValidation-error:0.050787\tValidation-f1_score:0.592771\n",
            "[17]\tValidation-error:0.05037\tValidation-f1_score:0.597571\n",
            "[18]\tValidation-error:0.050475\tValidation-f1_score:0.599509\n",
            "[19]\tValidation-error:0.049953\tValidation-f1_score:0.605761\n",
            "[20]\tValidation-error:0.049849\tValidation-f1_score:0.604918\n",
            "[21]\tValidation-error:0.049953\tValidation-f1_score:0.605459\n",
            "[22]\tValidation-error:0.049536\tValidation-f1_score:0.609414\n",
            "[23]\tValidation-error:0.049432\tValidation-f1_score:0.607762\n",
            "[24]\tValidation-error:0.04964\tValidation-f1_score:0.614618\n",
            "[25]\tValidation-error:0.049119\tValidation-f1_score:0.620232\n",
            "[26]\tValidation-error:0.048597\tValidation-f1_score:0.617427\n",
            "[27]\tValidation-error:0.048284\tValidation-f1_score:0.621149\n",
            "[28]\tValidation-error:0.048493\tValidation-f1_score:0.626667\n",
            "[29]\tValidation-error:0.048284\tValidation-f1_score:0.62314\n",
            "[30]\tValidation-error:0.048076\tValidation-f1_score:0.620861\n",
            "[31]\tValidation-error:0.047972\tValidation-f1_score:0.629232\n",
            "[32]\tValidation-error:0.048493\tValidation-f1_score:0.628713\n",
            "[33]\tValidation-error:0.048806\tValidation-f1_score:0.62966\n",
            "[34]\tValidation-error:0.04818\tValidation-f1_score:0.629934\n",
            "[35]\tValidation-error:0.048284\tValidation-f1_score:0.625514\n",
            "[36]\tValidation-error:0.048389\tValidation-f1_score:0.625929\n",
            "[37]\tValidation-error:0.04818\tValidation-f1_score:0.627581\n",
            "[38]\tValidation-error:0.047867\tValidation-f1_score:0.630273\n",
            "[39]\tValidation-error:0.04745\tValidation-f1_score:0.63106\n",
            "[40]\tValidation-error:0.04745\tValidation-f1_score:0.632099\n",
            "[41]\tValidation-error:0.047554\tValidation-f1_score:0.631579\n",
            "[42]\tValidation-error:0.047242\tValidation-f1_score:0.635025\n",
            "[43]\tValidation-error:0.04745\tValidation-f1_score:0.634505\n",
            "[44]\tValidation-error:0.04745\tValidation-f1_score:0.634584\n",
            "[45]\tValidation-error:0.047033\tValidation-f1_score:0.643902\n",
            "[46]\tValidation-error:0.046824\tValidation-f1_score:0.646104\n",
            "[47]\tValidation-error:0.046929\tValidation-f1_score:0.645057\n",
            "[48]\tValidation-error:0.046512\tValidation-f1_score:0.644068\n",
            "[49]\tValidation-error:0.046094\tValidation-f1_score:0.645682\n",
            "[50]\tValidation-error:0.046094\tValidation-f1_score:0.643492\n",
            "[51]\tValidation-error:0.04599\tValidation-f1_score:0.640259\n",
            "[52]\tValidation-error:0.046199\tValidation-f1_score:0.643087\n",
            "[53]\tValidation-error:0.04599\tValidation-f1_score:0.64303\n",
            "[54]\tValidation-error:0.045886\tValidation-f1_score:0.644534\n",
            "[55]\tValidation-error:0.045886\tValidation-f1_score:0.640714\n",
            "[56]\tValidation-error:0.045886\tValidation-f1_score:0.644068\n",
            "Stopping. Best iteration:\n",
            "[46]\tValidation-error:0.046824\tValidation-f1_score:0.646104\n",
            "\n"
          ],
          "name": "stdout"
        }
      ]
    },
    {
      "cell_type": "code",
      "metadata": {
        "id": "QZwZdZSSo5Xm",
        "colab_type": "code",
        "colab": {},
        "outputId": "8b50bc39-36bd-434a-d696-5d36682cd508"
      },
      "source": [
        "from prettytable import PrettyTable\n",
        "x = PrettyTable()\n",
        "x.field_names = [\"Vectorizer\", \"MODEL\", \"F1-SCORE\" ]\n",
        "x.add_row([\"BOW\",\"LOGISTIC REGRESSION\",0.53])\n",
        "x.add_row([\"TFIDF\",\"LOGISTIC REGRESSION\", 0.54])\n",
        "x.add_row([\"W2V\",\"LOGISTIC REGRESSION\", 0.61])\n",
        "\n",
        "x.add_row([\"BOW\",\"SVM\",0.50])\n",
        "x.add_row([\"TFIDF\",\"SVM\", 0.51])\n",
        "x.add_row([\"W2V\",\"SVM\", 0.61])\n",
        "\n",
        "x.add_row([\"BOW\",\"RANDOM FOREST\",0.55])\n",
        "x.add_row([\"TFIDF\",\"RANDOM FOREST\", 0.56])\n",
        "x.add_row([\"W2V\",\"RANDOM FOREST\", 0.49])\n",
        "\n",
        "x.add_row([\"BOW\",\"NAIVE_BAYES\",0.52])\n",
        "x.add_row([\"TFIDF\",\"NAIVE_BAYES\", 0.52])\n",
        "x.add_row([\"W2V\",\"NAIVE_BAYES\", 0.46])\n",
        "\n",
        "x.add_row([\"BOW\",\"XGBOOST\",0.51])\n",
        "x.add_row([\"TFIDF\",\"XGBOOST\", 0.51])\n",
        "x.add_row([\"W2V\",\"XGBOOST\", 0.64])\n",
        "\n",
        "\n",
        "\n",
        "print(x)"
      ],
      "execution_count": 0,
      "outputs": [
        {
          "output_type": "stream",
          "text": [
            "+------------+---------------------+----------+\n",
            "| Vectorizer |        MODEL        | F1-SCORE |\n",
            "+------------+---------------------+----------+\n",
            "|    BOW     | LOGISTIC REGRESSION |   0.53   |\n",
            "|   TFIDF    | LOGISTIC REGRESSION |   0.54   |\n",
            "|    W2V     | LOGISTIC REGRESSION |   0.61   |\n",
            "|    BOW     |         SVM         |   0.5    |\n",
            "|   TFIDF    |         SVM         |   0.51   |\n",
            "|    W2V     |         SVM         |   0.61   |\n",
            "|    BOW     |    RANDOM FOREST    |   0.55   |\n",
            "|   TFIDF    |    RANDOM FOREST    |   0.56   |\n",
            "|    W2V     |    RANDOM FOREST    |   0.49   |\n",
            "|    BOW     |     NAIVE_BAYES     |   0.52   |\n",
            "|   TFIDF    |     NAIVE_BAYES     |   0.52   |\n",
            "|    W2V     |     NAIVE_BAYES     |   0.46   |\n",
            "|    BOW     |       XGBOOST       |   0.51   |\n",
            "|   TFIDF    |       XGBOOST       |   0.51   |\n",
            "|    W2V     |       XGBOOST       |   0.64   |\n",
            "+------------+---------------------+----------+\n"
          ],
          "name": "stdout"
        }
      ]
    },
    {
      "cell_type": "code",
      "metadata": {
        "id": "PZQM6tgTo5Xn",
        "colab_type": "code",
        "colab": {}
      },
      "source": [
        ""
      ],
      "execution_count": 0,
      "outputs": []
    }
  ]
}